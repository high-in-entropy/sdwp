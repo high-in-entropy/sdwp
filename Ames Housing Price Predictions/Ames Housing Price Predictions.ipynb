{
 "cells": [
  {
   "cell_type": "markdown",
   "metadata": {},
   "source": [
    "# Ames Housing Price Predictions"
   ]
  },
  {
   "cell_type": "markdown",
   "metadata": {},
   "source": [
    "### The following notebook demonstrates regressive analysis on the Ames housing price <a href=\"https://www.kaggle.com/c/house-prices-advanced-regression-techniques/data\">dataset</a> available publicly on Kaggle and how using several features of a house in Ames, Iowa, we can predict the approximate price value for which the house can be sold at that time.\n",
    "\n",
    "### The notebook demonstrates basic to intermediate practices in Data Science for Regression Modeling and elementary knowledge of statistics, Machine Learning and Visualizations is recommended to understand the procedures ahead, in a better way.\n",
    "\n",
    "\n",
    "Fun fact: Housing in real estate is a 100 Trillion USD Industry, globally."
   ]
  },
  {
   "cell_type": "markdown",
   "metadata": {},
   "source": [
    "For more knowledge about the features of the houses present in the data, visit the link <a href=\"https://storage.googleapis.com/kaggle-competitions-data/kaggle/5407/data_description.txt?GoogleAccessId=web-data@kaggle-161607.iam.gserviceaccount.com&Expires=1537626436&Signature=IyRtQ%2Fkz%2BAmT0flkJXreMuMJvUEXFeKKQf8emXX4Q5ZHxpxhw8MZYQ60jgh2jqMzjTsjsRXX4z0wEG2EsojFkh%2BuDwrZ803t3VWFSToRlDkxQTJ%2FjEYREFT3j7EoQrAnIW2y57xh6qENDDDXRzx4M5UhvnDuAB89%2FxTC%2BgLG7GVF5cpTF3u9sx1gPNsFW3IUDrao5aY1eW8CtN%2BmcxCnSH0IQ7LN1TX6EM%2BdNz8%2FgPBGpjytUKFscmC%2B6LCa3UFSzBI2UX7kE4ZLQywrGmNDMJxjE8q8T%2ByRv1ciqGI3eW3wR49hF4is5mvgisJeHR80uomJWJi8wvqu%2F9d8Peb4qQ%3D%3D\">here</a>."
   ]
  },
  {
   "cell_type": "markdown",
   "metadata": {},
   "source": [
    "Importing the necessary libraries:"
   ]
  },
  {
   "cell_type": "code",
   "execution_count": 1,
   "metadata": {
    "collapsed": true
   },
   "outputs": [],
   "source": [
    "import numpy as np\n",
    "import pandas as pd\n",
    "import matplotlib.pyplot as plt\n",
    "import seaborn as sns\n",
    "from pandas import Series, DataFrame\n",
    "\n",
    "%matplotlib inline"
   ]
  },
  {
   "cell_type": "markdown",
   "metadata": {},
   "source": [
    "Importing the dataset:"
   ]
  },
  {
   "cell_type": "code",
   "execution_count": 2,
   "metadata": {
    "scrolled": true
   },
   "outputs": [
    {
     "data": {
      "text/html": [
       "<div>\n",
       "<style scoped>\n",
       "    .dataframe tbody tr th:only-of-type {\n",
       "        vertical-align: middle;\n",
       "    }\n",
       "\n",
       "    .dataframe tbody tr th {\n",
       "        vertical-align: top;\n",
       "    }\n",
       "\n",
       "    .dataframe thead th {\n",
       "        text-align: right;\n",
       "    }\n",
       "</style>\n",
       "<table border=\"1\" class=\"dataframe\">\n",
       "  <thead>\n",
       "    <tr style=\"text-align: right;\">\n",
       "      <th></th>\n",
       "      <th>Id</th>\n",
       "      <th>MSSubClass</th>\n",
       "      <th>MSZoning</th>\n",
       "      <th>LotFrontage</th>\n",
       "      <th>LotArea</th>\n",
       "      <th>Street</th>\n",
       "      <th>Alley</th>\n",
       "      <th>LotShape</th>\n",
       "      <th>LandContour</th>\n",
       "      <th>Utilities</th>\n",
       "      <th>...</th>\n",
       "      <th>PoolArea</th>\n",
       "      <th>PoolQC</th>\n",
       "      <th>Fence</th>\n",
       "      <th>MiscFeature</th>\n",
       "      <th>MiscVal</th>\n",
       "      <th>MoSold</th>\n",
       "      <th>YrSold</th>\n",
       "      <th>SaleType</th>\n",
       "      <th>SaleCondition</th>\n",
       "      <th>SalePrice</th>\n",
       "    </tr>\n",
       "  </thead>\n",
       "  <tbody>\n",
       "    <tr>\n",
       "      <th>0</th>\n",
       "      <td>1</td>\n",
       "      <td>60</td>\n",
       "      <td>RL</td>\n",
       "      <td>65.0</td>\n",
       "      <td>8450</td>\n",
       "      <td>Pave</td>\n",
       "      <td>NaN</td>\n",
       "      <td>Reg</td>\n",
       "      <td>Lvl</td>\n",
       "      <td>AllPub</td>\n",
       "      <td>...</td>\n",
       "      <td>0</td>\n",
       "      <td>NaN</td>\n",
       "      <td>NaN</td>\n",
       "      <td>NaN</td>\n",
       "      <td>0</td>\n",
       "      <td>2</td>\n",
       "      <td>2008</td>\n",
       "      <td>WD</td>\n",
       "      <td>Normal</td>\n",
       "      <td>208500</td>\n",
       "    </tr>\n",
       "    <tr>\n",
       "      <th>1</th>\n",
       "      <td>2</td>\n",
       "      <td>20</td>\n",
       "      <td>RL</td>\n",
       "      <td>80.0</td>\n",
       "      <td>9600</td>\n",
       "      <td>Pave</td>\n",
       "      <td>NaN</td>\n",
       "      <td>Reg</td>\n",
       "      <td>Lvl</td>\n",
       "      <td>AllPub</td>\n",
       "      <td>...</td>\n",
       "      <td>0</td>\n",
       "      <td>NaN</td>\n",
       "      <td>NaN</td>\n",
       "      <td>NaN</td>\n",
       "      <td>0</td>\n",
       "      <td>5</td>\n",
       "      <td>2007</td>\n",
       "      <td>WD</td>\n",
       "      <td>Normal</td>\n",
       "      <td>181500</td>\n",
       "    </tr>\n",
       "    <tr>\n",
       "      <th>2</th>\n",
       "      <td>3</td>\n",
       "      <td>60</td>\n",
       "      <td>RL</td>\n",
       "      <td>68.0</td>\n",
       "      <td>11250</td>\n",
       "      <td>Pave</td>\n",
       "      <td>NaN</td>\n",
       "      <td>IR1</td>\n",
       "      <td>Lvl</td>\n",
       "      <td>AllPub</td>\n",
       "      <td>...</td>\n",
       "      <td>0</td>\n",
       "      <td>NaN</td>\n",
       "      <td>NaN</td>\n",
       "      <td>NaN</td>\n",
       "      <td>0</td>\n",
       "      <td>9</td>\n",
       "      <td>2008</td>\n",
       "      <td>WD</td>\n",
       "      <td>Normal</td>\n",
       "      <td>223500</td>\n",
       "    </tr>\n",
       "    <tr>\n",
       "      <th>3</th>\n",
       "      <td>4</td>\n",
       "      <td>70</td>\n",
       "      <td>RL</td>\n",
       "      <td>60.0</td>\n",
       "      <td>9550</td>\n",
       "      <td>Pave</td>\n",
       "      <td>NaN</td>\n",
       "      <td>IR1</td>\n",
       "      <td>Lvl</td>\n",
       "      <td>AllPub</td>\n",
       "      <td>...</td>\n",
       "      <td>0</td>\n",
       "      <td>NaN</td>\n",
       "      <td>NaN</td>\n",
       "      <td>NaN</td>\n",
       "      <td>0</td>\n",
       "      <td>2</td>\n",
       "      <td>2006</td>\n",
       "      <td>WD</td>\n",
       "      <td>Abnorml</td>\n",
       "      <td>140000</td>\n",
       "    </tr>\n",
       "    <tr>\n",
       "      <th>4</th>\n",
       "      <td>5</td>\n",
       "      <td>60</td>\n",
       "      <td>RL</td>\n",
       "      <td>84.0</td>\n",
       "      <td>14260</td>\n",
       "      <td>Pave</td>\n",
       "      <td>NaN</td>\n",
       "      <td>IR1</td>\n",
       "      <td>Lvl</td>\n",
       "      <td>AllPub</td>\n",
       "      <td>...</td>\n",
       "      <td>0</td>\n",
       "      <td>NaN</td>\n",
       "      <td>NaN</td>\n",
       "      <td>NaN</td>\n",
       "      <td>0</td>\n",
       "      <td>12</td>\n",
       "      <td>2008</td>\n",
       "      <td>WD</td>\n",
       "      <td>Normal</td>\n",
       "      <td>250000</td>\n",
       "    </tr>\n",
       "  </tbody>\n",
       "</table>\n",
       "<p>5 rows × 81 columns</p>\n",
       "</div>"
      ],
      "text/plain": [
       "   Id  MSSubClass MSZoning  LotFrontage  LotArea Street Alley LotShape  \\\n",
       "0   1          60       RL         65.0     8450   Pave   NaN      Reg   \n",
       "1   2          20       RL         80.0     9600   Pave   NaN      Reg   \n",
       "2   3          60       RL         68.0    11250   Pave   NaN      IR1   \n",
       "3   4          70       RL         60.0     9550   Pave   NaN      IR1   \n",
       "4   5          60       RL         84.0    14260   Pave   NaN      IR1   \n",
       "\n",
       "  LandContour Utilities    ...     PoolArea PoolQC Fence MiscFeature MiscVal  \\\n",
       "0         Lvl    AllPub    ...            0    NaN   NaN         NaN       0   \n",
       "1         Lvl    AllPub    ...            0    NaN   NaN         NaN       0   \n",
       "2         Lvl    AllPub    ...            0    NaN   NaN         NaN       0   \n",
       "3         Lvl    AllPub    ...            0    NaN   NaN         NaN       0   \n",
       "4         Lvl    AllPub    ...            0    NaN   NaN         NaN       0   \n",
       "\n",
       "  MoSold YrSold  SaleType  SaleCondition  SalePrice  \n",
       "0      2   2008        WD         Normal     208500  \n",
       "1      5   2007        WD         Normal     181500  \n",
       "2      9   2008        WD         Normal     223500  \n",
       "3      2   2006        WD        Abnorml     140000  \n",
       "4     12   2008        WD         Normal     250000  \n",
       "\n",
       "[5 rows x 81 columns]"
      ]
     },
     "execution_count": 2,
     "metadata": {},
     "output_type": "execute_result"
    }
   ],
   "source": [
    "train = pd.read_csv(\"train.csv\")\n",
    "test = pd.read_csv(\"test.csv\")\n",
    "train.head()"
   ]
  },
  {
   "cell_type": "code",
   "execution_count": 3,
   "metadata": {},
   "outputs": [
    {
     "name": "stdout",
     "output_type": "stream",
     "text": [
      "<class 'pandas.core.frame.DataFrame'>\n",
      "RangeIndex: 1460 entries, 0 to 1459\n",
      "Data columns (total 81 columns):\n",
      "Id               1460 non-null int64\n",
      "MSSubClass       1460 non-null int64\n",
      "MSZoning         1460 non-null object\n",
      "LotFrontage      1201 non-null float64\n",
      "LotArea          1460 non-null int64\n",
      "Street           1460 non-null object\n",
      "Alley            91 non-null object\n",
      "LotShape         1460 non-null object\n",
      "LandContour      1460 non-null object\n",
      "Utilities        1460 non-null object\n",
      "LotConfig        1460 non-null object\n",
      "LandSlope        1460 non-null object\n",
      "Neighborhood     1460 non-null object\n",
      "Condition1       1460 non-null object\n",
      "Condition2       1460 non-null object\n",
      "BldgType         1460 non-null object\n",
      "HouseStyle       1460 non-null object\n",
      "OverallQual      1460 non-null int64\n",
      "OverallCond      1460 non-null int64\n",
      "YearBuilt        1460 non-null int64\n",
      "YearRemodAdd     1460 non-null int64\n",
      "RoofStyle        1460 non-null object\n",
      "RoofMatl         1460 non-null object\n",
      "Exterior1st      1460 non-null object\n",
      "Exterior2nd      1460 non-null object\n",
      "MasVnrType       1452 non-null object\n",
      "MasVnrArea       1452 non-null float64\n",
      "ExterQual        1460 non-null object\n",
      "ExterCond        1460 non-null object\n",
      "Foundation       1460 non-null object\n",
      "BsmtQual         1423 non-null object\n",
      "BsmtCond         1423 non-null object\n",
      "BsmtExposure     1422 non-null object\n",
      "BsmtFinType1     1423 non-null object\n",
      "BsmtFinSF1       1460 non-null int64\n",
      "BsmtFinType2     1422 non-null object\n",
      "BsmtFinSF2       1460 non-null int64\n",
      "BsmtUnfSF        1460 non-null int64\n",
      "TotalBsmtSF      1460 non-null int64\n",
      "Heating          1460 non-null object\n",
      "HeatingQC        1460 non-null object\n",
      "CentralAir       1460 non-null object\n",
      "Electrical       1459 non-null object\n",
      "1stFlrSF         1460 non-null int64\n",
      "2ndFlrSF         1460 non-null int64\n",
      "LowQualFinSF     1460 non-null int64\n",
      "GrLivArea        1460 non-null int64\n",
      "BsmtFullBath     1460 non-null int64\n",
      "BsmtHalfBath     1460 non-null int64\n",
      "FullBath         1460 non-null int64\n",
      "HalfBath         1460 non-null int64\n",
      "BedroomAbvGr     1460 non-null int64\n",
      "KitchenAbvGr     1460 non-null int64\n",
      "KitchenQual      1460 non-null object\n",
      "TotRmsAbvGrd     1460 non-null int64\n",
      "Functional       1460 non-null object\n",
      "Fireplaces       1460 non-null int64\n",
      "FireplaceQu      770 non-null object\n",
      "GarageType       1379 non-null object\n",
      "GarageYrBlt      1379 non-null float64\n",
      "GarageFinish     1379 non-null object\n",
      "GarageCars       1460 non-null int64\n",
      "GarageArea       1460 non-null int64\n",
      "GarageQual       1379 non-null object\n",
      "GarageCond       1379 non-null object\n",
      "PavedDrive       1460 non-null object\n",
      "WoodDeckSF       1460 non-null int64\n",
      "OpenPorchSF      1460 non-null int64\n",
      "EnclosedPorch    1460 non-null int64\n",
      "3SsnPorch        1460 non-null int64\n",
      "ScreenPorch      1460 non-null int64\n",
      "PoolArea         1460 non-null int64\n",
      "PoolQC           7 non-null object\n",
      "Fence            281 non-null object\n",
      "MiscFeature      54 non-null object\n",
      "MiscVal          1460 non-null int64\n",
      "MoSold           1460 non-null int64\n",
      "YrSold           1460 non-null int64\n",
      "SaleType         1460 non-null object\n",
      "SaleCondition    1460 non-null object\n",
      "SalePrice        1460 non-null int64\n",
      "dtypes: float64(3), int64(35), object(43)\n",
      "memory usage: 924.0+ KB\n"
     ]
    }
   ],
   "source": [
    "train.info()"
   ]
  },
  {
   "cell_type": "markdown",
   "metadata": {},
   "source": [
    "As mentioned in the data description, there is data for about 1460 houses in the training dataset. However the values of features: Alley, PoolQC, Fence and MiscFeature are provided only for a few houses (91,7,281,54 respectively). For such features, values of more than 75% of houses are missing and hence does not count important to be included in the final dataset. Therefore we will get rid of them."
   ]
  },
  {
   "cell_type": "code",
   "execution_count": 4,
   "metadata": {
    "collapsed": true
   },
   "outputs": [],
   "source": [
    "train = train.drop(['Alley','PoolQC','Fence','MiscFeature','FireplaceQu'],axis=1)\n",
    "test = test.drop(['Alley','PoolQC','Fence','MiscFeature','FireplaceQu'],axis=1)"
   ]
  },
  {
   "cell_type": "markdown",
   "metadata": {},
   "source": [
    "There are too many categorical features in the dataset and hence we need to encode them into numeric forms first."
   ]
  },
  {
   "cell_type": "code",
   "execution_count": 5,
   "metadata": {
    "collapsed": true
   },
   "outputs": [],
   "source": [
    "#encoding MSZoning to numeric values\n",
    "labels = train['MSZoning'].astype('category').cat.categories.tolist()\n",
    "replace_map = {'MSZoning' : {k:v for k,v in zip(labels,range(1,len(labels)+1))}}\n",
    "train.replace(replace_map,inplace=True)\n",
    "\n",
    "\n",
    "\n",
    "#encoding Street to numeric values\n",
    "labels = train['Street'].astype('category').cat.categories.tolist()\n",
    "replace_map = {'Street' : {k:v for k,v in zip(labels,range(1,len(labels)+1))}}\n",
    "train.replace(replace_map,inplace=True)\n",
    "\n",
    "\n",
    "\n",
    "#encoding LotShape to numeric values\n",
    "replace_map = {'LotShape' : {'Reg':4,'IR1':3,'IR2':2,'IR3':1}}\n",
    "train.replace(replace_map,inplace=True)\n",
    "\n",
    "\n",
    "\n",
    "#encoding LandContour to numeric values\n",
    "replace_map = {'LandContour' : {'Lvl':4,'Bnk':3,'HLS':2,'Low':1}}\n",
    "train.replace(replace_map,inplace=True)\n",
    "\n",
    "\n",
    "\n",
    "#encoding Utilities to numeric values\n",
    "replace_map = {'Utilities' : {'AllPub':4,'NoSewr':3,'NoSeWa':2,'ELO':1}}\n",
    "train.replace(replace_map,inplace=True)\n",
    "\n",
    "\n",
    "\n",
    "#encoding LotConfig to numeric values\n",
    "replace_map = {'LotConfig' : {'Inside':5,'Corner':4,'CulDSac':3,'FR2':2,'FR3':1}}\n",
    "train.replace(replace_map,inplace=True)\n",
    "\n",
    "\n",
    "\n",
    "#encoding LandSlope to numeric values\n",
    "replace_map = {'LandSlope' : {'Gtl':3,'Mod':2,'Sev':1}}\n",
    "train.replace(replace_map,inplace=True)\n",
    "\n",
    "\n",
    "\n",
    "#encoding Neighborhood to numeric values\n",
    "labels = train['Neighborhood'].astype('category').cat.categories.tolist()\n",
    "replace_map = {'Neighborhood' : {k:v for k,v in zip(labels,range(1,len(labels)+1))}}\n",
    "train.replace(replace_map,inplace=True)\n",
    "\n",
    "\n",
    "\n",
    "#encoding Condition1 to numeric values\n",
    "labels = train['Condition1'].astype('category').cat.categories.tolist()\n",
    "replace_map = {'Condition1' : {k:v for k,v in zip(labels,range(1,len(labels)+1))}}\n",
    "train.replace(replace_map,inplace=True)\n",
    "\n",
    "\n",
    "\n",
    "#encoding Condition2 to numeric values\n",
    "labels = train['Condition2'].astype('category').cat.categories.tolist()\n",
    "replace_map = {'Condition2' : {k:v for k,v in zip(labels,range(1,len(labels)+1))}}\n",
    "train.replace(replace_map,inplace=True)\n",
    "\n",
    "\n",
    "\n",
    "#encoding BldgType to numeric values\n",
    "replace_map = {'BldgType' : {'1Fam':5,'2fmCon':4,'Duplex':3,'TwnhsE':2,'Twnhs':1}}\n",
    "train.replace(replace_map,inplace=True)\n",
    "\n",
    "\n",
    "\n",
    "#encoding HouseStyle to numeric values\n",
    "replace_map = {'HouseStyle' : {'1Story':8,'1.5Fin':7,'1.5Unf':6,'2Story':5, \\\n",
    "                               '2.5Fin':4, '2.5Unf':3, 'SFoyer':2, 'SLvl':1}}\n",
    "train.replace(replace_map,inplace=True)\n",
    "\n",
    "\n",
    "\n",
    "#encoding RoofStyle to numeric values\n",
    "replace_map = {'RoofStyle' : {'Flat':6,'Gable':5,'Gambrel':4,'Hip':3, 'Mansard':2, 'Shed':1}}\n",
    "train.replace(replace_map,inplace=True)\n",
    "\n",
    "\n",
    "\n",
    "#encoding RoofMatl to numeric values\n",
    "replace_map = {'RoofMatl' : {'ClyTile':1,'CompShg':2,'Membran':3,'Metal':4, \\\n",
    "                             'Roll':5, 'Tar&Grv':6, 'WdShake':7, 'WdShngl':8}}\n",
    "train.replace(replace_map,inplace=True)\n",
    "\n",
    "\n",
    "\n",
    "#encoding Exterior1st to numeric values\n",
    "labels = train['Exterior1st'].astype('category').cat.categories.tolist()\n",
    "replace_map = {'Exterior1st' : {k:v for k,v in zip(labels,range(1,len(labels)+1))}}\n",
    "train.replace(replace_map,inplace=True)\n",
    "\n",
    "\n",
    "\n",
    "#encoding Exterior2nd to numeric values\n",
    "labels = train['Exterior2nd'].astype('category').cat.categories.tolist()\n",
    "replace_map = {'Exterior2nd' : {k:v for k,v in zip(labels,range(1,len(labels)+1))}}\n",
    "train.replace(replace_map,inplace=True)\n",
    "\n",
    "\n",
    "\n",
    "#encoding MasVnrType to numeric values\n",
    "replace_map = {'MasVnrType' : {'BrkCmn':1,'BrkFace':2,'CBlock':3,'None':-1,'Stone':4}}\n",
    "train.replace(replace_map,inplace=True)\n",
    "\n",
    "\n",
    "\n",
    "#encoding ExterQual to numeric values\n",
    "replace_map = {'ExterQual' : {'Ex':4,'Gd':3,'TA':2,'Fa':1,'Po':-1}}\n",
    "train.replace(replace_map,inplace=True)\n",
    "\n",
    "\n",
    "\n",
    "#encoding ExterCond to numeric values\n",
    "replace_map = {'ExterCond' : {'Ex':4,'Gd':3,'TA':2,'Fa':1,'Po':-1}}\n",
    "train.replace(replace_map,inplace=True)\n",
    "\n",
    "\n",
    "\n",
    "#encoding Foundation to numeric values\n",
    "replace_map = {'Foundation' : {'BrkTil':1,'CBlock':2,'PConc':3,'Slab':4,'Stone':5, 'Wood':6}}\n",
    "train.replace(replace_map,inplace=True)\n",
    "\n",
    "\n",
    "\n",
    "#encoding BsmtCond to numeric values\n",
    "replace_map = {'BsmtCond' : {'Ex':6,'Gd':5,'TA':4,'Fa':3,'Po':2, 'NA':-1}}\n",
    "train.replace(replace_map,inplace=True)\n",
    "\n",
    "\n",
    "\n",
    "#encoding BsmtExposure to numeric values\n",
    "replace_map = {'BsmtExposure' : {'Gd':5,'Av':4,'Mn':3,'No':1, 'NA':-1}}\n",
    "train.replace(replace_map,inplace=True)\n",
    "\n",
    "\n",
    "\n",
    "#encoding BsmtFinType1 to numeric values\n",
    "replace_map = {'BsmtFinType1' : {'GLQ':6,'ALQ':5,'BLQ':4,'Rec':3,'LwQ':2,'Unf':1, 'NA':-1}}\n",
    "train.replace(replace_map,inplace=True)\n",
    "\n",
    "\n",
    "\n",
    "#encoding BsmtFinType2 to numeric values\n",
    "replace_map = {'BsmtFinType2' : {'GLQ':6,'ALQ':5,'BLQ':4,'Rec':3,'LwQ':2,'Unf':1, 'NA':-1}}\n",
    "train.replace(replace_map,inplace=True)\n",
    "\n",
    "\n",
    "\n",
    "#encoding Heating to numeric values\n",
    "replace_map = {'Heating' : {'Floor':6,'GasA':5,'GasW':4,'Grav':3,'OthW':2,'Wall':1}}\n",
    "train.replace(replace_map,inplace=True)\n",
    "\n",
    "\n",
    "\n",
    "#encoding HeatingQC to numeric values\n",
    "replace_map = {'HeatingQC' : {'Ex':5,'Gd':4,'TA':3,'Fa':2,'Po':1}}\n",
    "train.replace(replace_map,inplace=True)\n",
    "\n",
    "\n",
    "\n",
    "#encoding CentralAir to numeric values\n",
    "replace_map = {'CentralAir' : {'N':0,'Y':1}}\n",
    "train.replace(replace_map,inplace=True)\n",
    "\n",
    "\n",
    "\n",
    "#encoding Electrical to numeric values\n",
    "replace_map = {'Electrical' : {'SBrkr':5,'FuseA':4,'FuseF':3,'FuseP':2,'Mix':1}}\n",
    "train.replace(replace_map,inplace=True)\n",
    "\n",
    "\n",
    "\n",
    "#encoding KitchenQual to numeric values\n",
    "replace_map = {'KitchenQual' : {'Ex':5,'Gd':4,'TA':3,'Fa':2,'Po':1}}\n",
    "train.replace(replace_map,inplace=True)\n",
    "\n",
    "\n",
    "\n",
    "#encoding Functional to numeric values\n",
    "replace_map = {'Functional' : {'Typ':4,'Min1':3,'Min2':2,'Mod':1,'Maj1':-1, 'Maj2':-2 , 'Sev':-3, 'Sal':-4 }}\n",
    "train.replace(replace_map,inplace=True)\n",
    "\n",
    "\n",
    "\n",
    "#encoding GarageType to numeric values\n",
    "replace_map = {'GarageType' : {'2Types':6,'Attchd':5,'Basment':4,'BuiltIn':3,'CarPort':2, 'Detchd': 1, 'NA': -1 }}\n",
    "train.replace(replace_map,inplace=True)\n",
    "\n",
    "\n",
    "\n",
    "#encoding GarageFinish to numeric values\n",
    "replace_map = {'GarageFinish' : {'Fin':3,'RFn':2, 'Unf':1,'NA':-1}}\n",
    "train.replace(replace_map,inplace=True)\n",
    "\n",
    "\n",
    "\n",
    "#encoding GarageQual to numeric values\n",
    "replace_map = {'GarageQual' : {'Ex':5,'Gd':4,'TA':3,'Fa':2,'Po':1}}\n",
    "train.replace(replace_map,inplace=True)\n",
    "\n",
    "\n",
    "\n",
    "#encoding GarageCond to numeric values\n",
    "replace_map = {'GarageCond' : {'Ex':5,'Gd':4,'TA':3,'Fa':2,'Po':1}}\n",
    "train.replace(replace_map,inplace=True)\n",
    "\n",
    "\n",
    "\n",
    "#encoding PavedDrive to numeric values\n",
    "replace_map = {'PavedDrive' : {'Y':3,'P':2,'N':1}}\n",
    "train.replace(replace_map,inplace=True)\n",
    "\n",
    "\n",
    "\n",
    "#encoding SaleType to numeric values\n",
    "replace_map = {'SaleType' : {'WD':10,'CWD':9,'VWD':8,'New':7,'COD':6,'Con':5,'ConLw':4,'ConLI':3,'ConLD':2,'Oth':1}}\n",
    "train.replace(replace_map,inplace=True)\n",
    "\n",
    "\n",
    "\n",
    "#encoding SaleCondition to numeric values\n",
    "replace_map = {'SaleCondition' : {'Normal':6,'Abnorml':5,'AdjLand':4, 'Alloca':3, 'Family':2, 'Partial':1}}\n",
    "train.replace(replace_map,inplace=True)"
   ]
  },
  {
   "cell_type": "code",
   "execution_count": 6,
   "metadata": {
    "collapsed": true
   },
   "outputs": [],
   "source": [
    "#encoding BsmtQual to numeric values\n",
    "replace_map = {'BsmtQual' : {'Ex':5,'Gd':4,'TA':3,'Fa':2,'Po':1}}\n",
    "train.replace(replace_map,inplace=True)"
   ]
  },
  {
   "cell_type": "markdown",
   "metadata": {},
   "source": [
    "Similarly encoding the categorical values in test dataset."
   ]
  },
  {
   "cell_type": "code",
   "execution_count": 7,
   "metadata": {
    "collapsed": true
   },
   "outputs": [],
   "source": [
    "#encoding MSZoning to numeric values\n",
    "labels = test['MSZoning'].astype('category').cat.categories.tolist()\n",
    "replace_map = {'MSZoning' : {k:v for k,v in zip(labels,range(1,len(labels)+1))}}\n",
    "test.replace(replace_map,inplace=True)\n",
    "\n",
    "\n",
    "\n",
    "#encoding Street to numeric values\n",
    "labels = test['Street'].astype('category').cat.categories.tolist()\n",
    "replace_map = {'Street' : {k:v for k,v in zip(labels,range(1,len(labels)+1))}}\n",
    "test.replace(replace_map,inplace=True)\n",
    "\n",
    "\n",
    "\n",
    "#encoding LotShape to numeric values\n",
    "replace_map = {'LotShape' : {'Reg':4,'IR1':3,'IR2':2,'IR3':1}}\n",
    "test.replace(replace_map,inplace=True)\n",
    "\n",
    "\n",
    "\n",
    "#encoding LandContour to numeric values\n",
    "replace_map = {'LandContour' : {'Lvl':4,'Bnk':3,'HLS':2,'Low':1}}\n",
    "test.replace(replace_map,inplace=True)\n",
    "\n",
    "\n",
    "\n",
    "#encoding Utilities to numeric values\n",
    "replace_map = {'Utilities' : {'AllPub':4,'NoSewr':3,'NoSeWa':2,'ELO':1}}\n",
    "test.replace(replace_map,inplace=True)\n",
    "\n",
    "\n",
    "\n",
    "#encoding LotConfig to numeric values\n",
    "replace_map = {'LotConfig' : {'Inside':5,'Corner':4,'CulDSac':3,'FR2':2,'FR3':1}}\n",
    "test.replace(replace_map,inplace=True)\n",
    "\n",
    "\n",
    "\n",
    "#encoding LandSlope to numeric values\n",
    "replace_map = {'LandSlope' : {'Gtl':3,'Mod':2,'Sev':1}}\n",
    "test.replace(replace_map,inplace=True)\n",
    "\n",
    "\n",
    "\n",
    "#encoding Neighborhood to numeric values\n",
    "labels = test['Neighborhood'].astype('category').cat.categories.tolist()\n",
    "replace_map = {'Neighborhood' : {k:v for k,v in zip(labels,range(1,len(labels)+1))}}\n",
    "test.replace(replace_map,inplace=True)\n",
    "\n",
    "\n",
    "\n",
    "#encoding Condition1 to numeric values\n",
    "labels = test['Condition1'].astype('category').cat.categories.tolist()\n",
    "replace_map = {'Condition1' : {k:v for k,v in zip(labels,range(1,len(labels)+1))}}\n",
    "test.replace(replace_map,inplace=True)\n",
    "\n",
    "\n",
    "\n",
    "#encoding Condition2 to numeric values\n",
    "labels = test['Condition2'].astype('category').cat.categories.tolist()\n",
    "replace_map = {'Condition2' : {k:v for k,v in zip(labels,range(1,len(labels)+1))}}\n",
    "test.replace(replace_map,inplace=True)\n",
    "\n",
    "\n",
    "\n",
    "#encoding BldgType to numeric values\n",
    "replace_map = {'BldgType' : {'1Fam':5,'2fmCon':4,'Duplex':3,'TwnhsE':2,'Twnhs':1}}\n",
    "test.replace(replace_map,inplace=True)\n",
    "\n",
    "\n",
    "\n",
    "#encoding HouseStyle to numeric values\n",
    "replace_map = {'HouseStyle' : {'1Story':8,'1.5Fin':7,'1.5Unf':6,'2Story':5, \\\n",
    "                               '2.5Fin':4, '2.5Unf':3, 'SFoyer':2, 'SLvl':1}}\n",
    "test.replace(replace_map,inplace=True)\n",
    "\n",
    "\n",
    "\n",
    "#encoding RoofStyle to numeric values\n",
    "replace_map = {'RoofStyle' : {'Flat':6,'Gable':5,'Gambrel':4,'Hip':3, 'Mansard':2, 'Shed':1}}\n",
    "test.replace(replace_map,inplace=True)\n",
    "\n",
    "\n",
    "\n",
    "#encoding RoofMatl to numeric values\n",
    "replace_map = {'RoofMatl' : {'ClyTile':1,'CompShg':2,'Membran':3,'Metal':4, \\\n",
    "                             'Roll':5, 'Tar&Grv':6, 'WdShake':7, 'WdShngl':8}}\n",
    "test.replace(replace_map,inplace=True)\n",
    "\n",
    "\n",
    "\n",
    "#encoding Exterior1st to numeric values\n",
    "labels = test['Exterior1st'].astype('category').cat.categories.tolist()\n",
    "replace_map = {'Exterior1st' : {k:v for k,v in zip(labels,range(1,len(labels)+1))}}\n",
    "test.replace(replace_map,inplace=True)\n",
    "\n",
    "\n",
    "\n",
    "#encoding Exterior2nd to numeric values\n",
    "labels = test['Exterior2nd'].astype('category').cat.categories.tolist()\n",
    "replace_map = {'Exterior2nd' : {k:v for k,v in zip(labels,range(1,len(labels)+1))}}\n",
    "test.replace(replace_map,inplace=True)\n",
    "\n",
    "\n",
    "\n",
    "#encoding MasVnrType to numeric values\n",
    "replace_map = {'MasVnrType' : {'BrkCmn':1,'BrkFace':2,'CBlock':3,'None':-1,'Stone':4}}\n",
    "test.replace(replace_map,inplace=True)\n",
    "\n",
    "\n",
    "\n",
    "#encoding ExterQual to numeric values\n",
    "replace_map = {'ExterQual' : {'Ex':4,'Gd':3,'TA':2,'Fa':1,'Po':-1}}\n",
    "test.replace(replace_map,inplace=True)\n",
    "\n",
    "\n",
    "\n",
    "#encoding ExterCond to numeric values\n",
    "replace_map = {'ExterCond' : {'Ex':4,'Gd':3,'TA':2,'Fa':1,'Po':-1}}\n",
    "test.replace(replace_map,inplace=True)\n",
    "\n",
    "\n",
    "\n",
    "#encoding Foundation to numeric values\n",
    "replace_map = {'Foundation' : {'BrkTil':1,'CBlock':2,'PConc':3,'Slab':4,'Stone':5, 'Wood':6}}\n",
    "test.replace(replace_map,inplace=True)\n",
    "\n",
    "\n",
    "\n",
    "#encoding BsmtCond to numeric values\n",
    "replace_map = {'BsmtCond' : {'Ex':6,'Gd':5,'TA':4,'Fa':3,'Po':2, 'NA':-1}}\n",
    "test.replace(replace_map,inplace=True)\n",
    "\n",
    "\n",
    "\n",
    "#encoding BsmtExposure to numeric values\n",
    "replace_map = {'BsmtExposure' : {'Gd':5,'Av':4,'Mn':3,'No':1, 'NA':-1}}\n",
    "test.replace(replace_map,inplace=True)\n",
    "\n",
    "\n",
    "\n",
    "#encoding BsmtFinType1 to numeric values\n",
    "replace_map = {'BsmtFinType1' : {'GLQ':6,'ALQ':5,'BLQ':4,'Rec':3,'LwQ':2,'Unf':1, 'NA':-1}}\n",
    "test.replace(replace_map,inplace=True)\n",
    "\n",
    "\n",
    "\n",
    "#encoding BsmtFinType2 to numeric values\n",
    "replace_map = {'BsmtFinType2' : {'GLQ':6,'ALQ':5,'BLQ':4,'Rec':3,'LwQ':2,'Unf':1, 'NA':-1}}\n",
    "test.replace(replace_map,inplace=True)\n",
    "\n",
    "\n",
    "\n",
    "#encoding Heating to numeric values\n",
    "replace_map = {'Heating' : {'Floor':6,'GasA':5,'GasW':4,'Grav':3,'OthW':2,'Wall':1}}\n",
    "test.replace(replace_map,inplace=True)\n",
    "\n",
    "\n",
    "\n",
    "#encoding HeatingQC to numeric values\n",
    "replace_map = {'HeatingQC' : {'Ex':5,'Gd':4,'TA':3,'Fa':2,'Po':1}}\n",
    "test.replace(replace_map,inplace=True)\n",
    "\n",
    "\n",
    "\n",
    "#encoding CentralAir to numeric values\n",
    "replace_map = {'CentralAir' : {'N':0,'Y':1}}\n",
    "test.replace(replace_map,inplace=True)\n",
    "\n",
    "\n",
    "\n",
    "#encoding Electrical to numeric values\n",
    "replace_map = {'Electrical' : {'SBrkr':5,'FuseA':4,'FuseF':3,'FuseP':2,'Mix':1}}\n",
    "test.replace(replace_map,inplace=True)\n",
    "\n",
    "\n",
    "\n",
    "#encoding KitchenQual to numeric values\n",
    "replace_map = {'KitchenQual' : {'Ex':5,'Gd':4,'TA':3,'Fa':2,'Po':1}}\n",
    "test.replace(replace_map,inplace=True)\n",
    "\n",
    "\n",
    "\n",
    "#encoding Functional to numeric values\n",
    "replace_map = {'Functional' : {'Typ':4,'Min1':3,'Min2':2,'Mod':1,'Maj1':-1, 'Maj2':-2 , 'Sev':-3, 'Sal':-4 }}\n",
    "test.replace(replace_map,inplace=True)\n",
    "\n",
    "\n",
    "\n",
    "#encoding GarageType to numeric values\n",
    "replace_map = {'GarageType' : {'2Types':6,'Attchd':5,'Basment':4,'BuiltIn':3,'CarPort':2, 'Detchd': 1, 'NA': -1 }}\n",
    "test.replace(replace_map,inplace=True)\n",
    "\n",
    "\n",
    "\n",
    "#encoding GarageFinish to numeric values\n",
    "replace_map = {'GarageFinish' : {'Fin':3,'RFn':2, 'Unf':1,'NA':-1}}\n",
    "test.replace(replace_map,inplace=True)\n",
    "\n",
    "\n",
    "\n",
    "#encoding GarageQual to numeric values\n",
    "replace_map = {'GarageQual' : {'Ex':5,'Gd':4,'TA':3,'Fa':2,'Po':1}}\n",
    "test.replace(replace_map,inplace=True)\n",
    "\n",
    "\n",
    "\n",
    "#encoding GarageCond to numeric values\n",
    "replace_map = {'GarageCond' : {'Ex':5,'Gd':4,'TA':3,'Fa':2,'Po':1}}\n",
    "test.replace(replace_map,inplace=True)\n",
    "\n",
    "\n",
    "\n",
    "#encoding PavedDrive to numeric values\n",
    "replace_map = {'PavedDrive' : {'Y':3,'P':2,'N':1}}\n",
    "test.replace(replace_map,inplace=True)\n",
    "\n",
    "\n",
    "\n",
    "#encoding SaleType to numeric values\n",
    "replace_map = {'SaleType' : {'WD':10,'CWD':9,'VWD':8,'New':7,'COD':6,'Con':5,'ConLw':4,'ConLI':3,'ConLD':2,'Oth':1}}\n",
    "test.replace(replace_map,inplace=True)\n",
    "\n",
    "\n",
    "\n",
    "#encoding SaleCondition to numeric values\n",
    "replace_map = {'SaleCondition' : {'Normal':6,'Abnorml':5,'AdjLand':4, 'Alloca':3, 'Family':2, 'Partial':1}}\n",
    "test.replace(replace_map,inplace=True)"
   ]
  },
  {
   "cell_type": "code",
   "execution_count": 8,
   "metadata": {
    "collapsed": true
   },
   "outputs": [],
   "source": [
    "#encoding BsmtQual to numeric values\n",
    "replace_map = {'BsmtQual' : {'Ex':5,'Gd':4,'TA':3,'Fa':2,'Po':1}}\n",
    "test.replace(replace_map,inplace=True)"
   ]
  },
  {
   "cell_type": "code",
   "execution_count": 9,
   "metadata": {
    "scrolled": false
   },
   "outputs": [
    {
     "name": "stdout",
     "output_type": "stream",
     "text": [
      "<class 'pandas.core.frame.DataFrame'>\n",
      "RangeIndex: 1459 entries, 0 to 1458\n",
      "Data columns (total 75 columns):\n",
      "Id               1459 non-null int64\n",
      "MSSubClass       1459 non-null int64\n",
      "MSZoning         1455 non-null float64\n",
      "LotFrontage      1232 non-null float64\n",
      "LotArea          1459 non-null int64\n",
      "Street           1459 non-null int64\n",
      "LotShape         1459 non-null int64\n",
      "LandContour      1459 non-null int64\n",
      "Utilities        1457 non-null float64\n",
      "LotConfig        1459 non-null int64\n",
      "LandSlope        1459 non-null int64\n",
      "Neighborhood     1459 non-null int64\n",
      "Condition1       1459 non-null int64\n",
      "Condition2       1459 non-null int64\n",
      "BldgType         1459 non-null int64\n",
      "HouseStyle       1459 non-null int64\n",
      "OverallQual      1459 non-null int64\n",
      "OverallCond      1459 non-null int64\n",
      "YearBuilt        1459 non-null int64\n",
      "YearRemodAdd     1459 non-null int64\n",
      "RoofStyle        1459 non-null int64\n",
      "RoofMatl         1459 non-null int64\n",
      "Exterior1st      1458 non-null float64\n",
      "Exterior2nd      1458 non-null float64\n",
      "MasVnrType       1443 non-null float64\n",
      "MasVnrArea       1444 non-null float64\n",
      "ExterQual        1459 non-null int64\n",
      "ExterCond        1459 non-null int64\n",
      "Foundation       1459 non-null int64\n",
      "BsmtQual         1415 non-null float64\n",
      "BsmtCond         1414 non-null float64\n",
      "BsmtExposure     1415 non-null float64\n",
      "BsmtFinType1     1417 non-null float64\n",
      "BsmtFinSF1       1458 non-null float64\n",
      "BsmtFinType2     1417 non-null float64\n",
      "BsmtFinSF2       1458 non-null float64\n",
      "BsmtUnfSF        1458 non-null float64\n",
      "TotalBsmtSF      1458 non-null float64\n",
      "Heating          1459 non-null int64\n",
      "HeatingQC        1459 non-null int64\n",
      "CentralAir       1459 non-null int64\n",
      "Electrical       1459 non-null int64\n",
      "1stFlrSF         1459 non-null int64\n",
      "2ndFlrSF         1459 non-null int64\n",
      "LowQualFinSF     1459 non-null int64\n",
      "GrLivArea        1459 non-null int64\n",
      "BsmtFullBath     1457 non-null float64\n",
      "BsmtHalfBath     1457 non-null float64\n",
      "FullBath         1459 non-null int64\n",
      "HalfBath         1459 non-null int64\n",
      "BedroomAbvGr     1459 non-null int64\n",
      "KitchenAbvGr     1459 non-null int64\n",
      "KitchenQual      1458 non-null float64\n",
      "TotRmsAbvGrd     1459 non-null int64\n",
      "Functional       1457 non-null float64\n",
      "Fireplaces       1459 non-null int64\n",
      "GarageType       1383 non-null float64\n",
      "GarageYrBlt      1381 non-null float64\n",
      "GarageFinish     1381 non-null float64\n",
      "GarageCars       1458 non-null float64\n",
      "GarageArea       1458 non-null float64\n",
      "GarageQual       1381 non-null float64\n",
      "GarageCond       1381 non-null float64\n",
      "PavedDrive       1459 non-null int64\n",
      "WoodDeckSF       1459 non-null int64\n",
      "OpenPorchSF      1459 non-null int64\n",
      "EnclosedPorch    1459 non-null int64\n",
      "3SsnPorch        1459 non-null int64\n",
      "ScreenPorch      1459 non-null int64\n",
      "PoolArea         1459 non-null int64\n",
      "MiscVal          1459 non-null int64\n",
      "MoSold           1459 non-null int64\n",
      "YrSold           1459 non-null int64\n",
      "SaleType         1458 non-null float64\n",
      "SaleCondition    1459 non-null int64\n",
      "dtypes: float64(28), int64(47)\n",
      "memory usage: 855.0 KB\n"
     ]
    }
   ],
   "source": [
    "test.info()"
   ]
  },
  {
   "cell_type": "markdown",
   "metadata": {
    "collapsed": true
   },
   "source": [
    "We could have handled the categorical features using functions from sklearn preprocessing module, but it encodes consecutive values according to the alphabetical order which could have affected the ordinal property of our features. Hence, encoding the categorical features by replacing by a mapping dictionary is more preferable in any categorical feature handling case especially if the values of the features are ordinal type."
   ]
  },
  {
   "cell_type": "markdown",
   "metadata": {},
   "source": [
    "Also, some of the features show some kind of similar relationships and we can take that to our advantage and reduce the number of columns. For eg. there are features YearBuilt, Year Remodeled, Year Sold. We can use this three features by combining them and forming one single feature representing how many years old is the property by the formula:\n",
    "\n",
    "<b>YearOld = YrSold - YearRemodAdd</b>\n",
    "\n",
    "We are subtracting the remodeled year since the building after remodeling can be considered as a fresh one."
   ]
  },
  {
   "cell_type": "code",
   "execution_count": 10,
   "metadata": {
    "collapsed": true
   },
   "outputs": [],
   "source": [
    "train['YearOld'] = train['YrSold'] - train['YearRemodAdd']\n",
    "test['YearOld'] = test['YrSold'] - test['YearRemodAdd']"
   ]
  },
  {
   "cell_type": "code",
   "execution_count": 11,
   "metadata": {
    "collapsed": true,
    "scrolled": true
   },
   "outputs": [],
   "source": [
    "train = train.drop(['YearBuilt','YrSold','YearRemodAdd'],axis=1)\n",
    "test = test.drop(['YearBuilt','YrSold','YearRemodAdd'],axis=1)"
   ]
  },
  {
   "cell_type": "markdown",
   "metadata": {},
   "source": [
    "Also, some features represent quality as well as condition of the infrastructures. Such as Exterior quality and condition, Basement quality and condition similarly for Garage.\n",
    "\n",
    "We can compute a single feature representing both the quality and condition of the infrastructures by taking the mean of the individual features values.\n",
    "\n"
   ]
  },
  {
   "cell_type": "code",
   "execution_count": 12,
   "metadata": {
    "collapsed": true
   },
   "outputs": [],
   "source": [
    "train['ExterQualCond'] = (train['ExterQual']+train['ExterCond'])/2\n",
    "test['ExterQualCond'] = (test['ExterQual']+test['ExterCond'])/2"
   ]
  },
  {
   "cell_type": "code",
   "execution_count": 13,
   "metadata": {
    "collapsed": true
   },
   "outputs": [],
   "source": [
    "train['BsmtQualCond'] = (train['BsmtQual']+train['BsmtCond'])/2\n",
    "test['BsmtQualCond'] = (test['BsmtQual']+test['BsmtCond'])/2"
   ]
  },
  {
   "cell_type": "code",
   "execution_count": 14,
   "metadata": {
    "collapsed": true
   },
   "outputs": [],
   "source": [
    "train['GarageQualCond'] = (train['GarageQual']+train['GarageCond'])/2\n",
    "test['GarageQualCond'] = (test['GarageQual']+test['GarageCond'])/2"
   ]
  },
  {
   "cell_type": "code",
   "execution_count": 15,
   "metadata": {
    "collapsed": true
   },
   "outputs": [],
   "source": [
    "train = train.drop(['ExterQual','ExterCond','BsmtQual','BsmtCond','GarageQual','GarageCond'],axis=1)\n",
    "test = test.drop(['ExterQual','ExterCond','BsmtQual','BsmtCond','GarageQual','GarageCond'],axis=1)"
   ]
  },
  {
   "cell_type": "markdown",
   "metadata": {},
   "source": [
    "Also, the values of Porch areas of the houses are given individually. How about combining them all, to form a single feature: Total Porch Area?"
   ]
  },
  {
   "cell_type": "code",
   "execution_count": 16,
   "metadata": {
    "collapsed": true
   },
   "outputs": [],
   "source": [
    "train['TotPorch'] = train['OpenPorchSF']+train['EnclosedPorch']+train['3SsnPorch']+train['ScreenPorch']\n",
    "test['TotPorch'] = test['OpenPorchSF']+test['EnclosedPorch']+test['3SsnPorch']+test['ScreenPorch']"
   ]
  },
  {
   "cell_type": "code",
   "execution_count": 17,
   "metadata": {
    "collapsed": true
   },
   "outputs": [],
   "source": [
    "train = train.drop(['OpenPorchSF','EnclosedPorch','3SsnPorch','ScreenPorch'],axis=1)\n",
    "test = test.drop(['OpenPorchSF','EnclosedPorch','3SsnPorch','ScreenPorch'],axis=1)"
   ]
  },
  {
   "cell_type": "markdown",
   "metadata": {},
   "source": [
    "Let us set our target variable as the last column of the dataframe for convenience."
   ]
  },
  {
   "cell_type": "code",
   "execution_count": 18,
   "metadata": {
    "collapsed": true
   },
   "outputs": [],
   "source": [
    "SalePrice = train['SalePrice']\n",
    "train = train.drop(['SalePrice'],axis=1)"
   ]
  },
  {
   "cell_type": "code",
   "execution_count": 19,
   "metadata": {
    "collapsed": true
   },
   "outputs": [],
   "source": [
    "train['SalePrice'] = SalePrice"
   ]
  },
  {
   "cell_type": "code",
   "execution_count": 20,
   "metadata": {
    "scrolled": false
   },
   "outputs": [
    {
     "data": {
      "text/html": [
       "<div>\n",
       "<style scoped>\n",
       "    .dataframe tbody tr th:only-of-type {\n",
       "        vertical-align: middle;\n",
       "    }\n",
       "\n",
       "    .dataframe tbody tr th {\n",
       "        vertical-align: top;\n",
       "    }\n",
       "\n",
       "    .dataframe thead th {\n",
       "        text-align: right;\n",
       "    }\n",
       "</style>\n",
       "<table border=\"1\" class=\"dataframe\">\n",
       "  <thead>\n",
       "    <tr style=\"text-align: right;\">\n",
       "      <th></th>\n",
       "      <th>Id</th>\n",
       "      <th>MSSubClass</th>\n",
       "      <th>MSZoning</th>\n",
       "      <th>LotFrontage</th>\n",
       "      <th>LotArea</th>\n",
       "      <th>Street</th>\n",
       "      <th>LotShape</th>\n",
       "      <th>LandContour</th>\n",
       "      <th>Utilities</th>\n",
       "      <th>LotConfig</th>\n",
       "      <th>...</th>\n",
       "      <th>MiscVal</th>\n",
       "      <th>MoSold</th>\n",
       "      <th>SaleType</th>\n",
       "      <th>SaleCondition</th>\n",
       "      <th>YearOld</th>\n",
       "      <th>ExterQualCond</th>\n",
       "      <th>BsmtQualCond</th>\n",
       "      <th>GarageQualCond</th>\n",
       "      <th>TotPorch</th>\n",
       "      <th>SalePrice</th>\n",
       "    </tr>\n",
       "  </thead>\n",
       "  <tbody>\n",
       "    <tr>\n",
       "      <th>0</th>\n",
       "      <td>1</td>\n",
       "      <td>60</td>\n",
       "      <td>4</td>\n",
       "      <td>65.0</td>\n",
       "      <td>8450</td>\n",
       "      <td>2</td>\n",
       "      <td>4</td>\n",
       "      <td>4</td>\n",
       "      <td>4</td>\n",
       "      <td>5</td>\n",
       "      <td>...</td>\n",
       "      <td>0</td>\n",
       "      <td>2</td>\n",
       "      <td>10</td>\n",
       "      <td>6</td>\n",
       "      <td>5</td>\n",
       "      <td>2.5</td>\n",
       "      <td>4.0</td>\n",
       "      <td>3.0</td>\n",
       "      <td>61</td>\n",
       "      <td>208500</td>\n",
       "    </tr>\n",
       "    <tr>\n",
       "      <th>1</th>\n",
       "      <td>2</td>\n",
       "      <td>20</td>\n",
       "      <td>4</td>\n",
       "      <td>80.0</td>\n",
       "      <td>9600</td>\n",
       "      <td>2</td>\n",
       "      <td>4</td>\n",
       "      <td>4</td>\n",
       "      <td>4</td>\n",
       "      <td>2</td>\n",
       "      <td>...</td>\n",
       "      <td>0</td>\n",
       "      <td>5</td>\n",
       "      <td>10</td>\n",
       "      <td>6</td>\n",
       "      <td>31</td>\n",
       "      <td>2.0</td>\n",
       "      <td>4.0</td>\n",
       "      <td>3.0</td>\n",
       "      <td>0</td>\n",
       "      <td>181500</td>\n",
       "    </tr>\n",
       "    <tr>\n",
       "      <th>2</th>\n",
       "      <td>3</td>\n",
       "      <td>60</td>\n",
       "      <td>4</td>\n",
       "      <td>68.0</td>\n",
       "      <td>11250</td>\n",
       "      <td>2</td>\n",
       "      <td>3</td>\n",
       "      <td>4</td>\n",
       "      <td>4</td>\n",
       "      <td>5</td>\n",
       "      <td>...</td>\n",
       "      <td>0</td>\n",
       "      <td>9</td>\n",
       "      <td>10</td>\n",
       "      <td>6</td>\n",
       "      <td>6</td>\n",
       "      <td>2.5</td>\n",
       "      <td>4.0</td>\n",
       "      <td>3.0</td>\n",
       "      <td>42</td>\n",
       "      <td>223500</td>\n",
       "    </tr>\n",
       "    <tr>\n",
       "      <th>3</th>\n",
       "      <td>4</td>\n",
       "      <td>70</td>\n",
       "      <td>4</td>\n",
       "      <td>60.0</td>\n",
       "      <td>9550</td>\n",
       "      <td>2</td>\n",
       "      <td>3</td>\n",
       "      <td>4</td>\n",
       "      <td>4</td>\n",
       "      <td>4</td>\n",
       "      <td>...</td>\n",
       "      <td>0</td>\n",
       "      <td>2</td>\n",
       "      <td>10</td>\n",
       "      <td>5</td>\n",
       "      <td>36</td>\n",
       "      <td>2.0</td>\n",
       "      <td>4.0</td>\n",
       "      <td>3.0</td>\n",
       "      <td>307</td>\n",
       "      <td>140000</td>\n",
       "    </tr>\n",
       "    <tr>\n",
       "      <th>4</th>\n",
       "      <td>5</td>\n",
       "      <td>60</td>\n",
       "      <td>4</td>\n",
       "      <td>84.0</td>\n",
       "      <td>14260</td>\n",
       "      <td>2</td>\n",
       "      <td>3</td>\n",
       "      <td>4</td>\n",
       "      <td>4</td>\n",
       "      <td>2</td>\n",
       "      <td>...</td>\n",
       "      <td>0</td>\n",
       "      <td>12</td>\n",
       "      <td>10</td>\n",
       "      <td>6</td>\n",
       "      <td>8</td>\n",
       "      <td>2.5</td>\n",
       "      <td>4.0</td>\n",
       "      <td>3.0</td>\n",
       "      <td>84</td>\n",
       "      <td>250000</td>\n",
       "    </tr>\n",
       "  </tbody>\n",
       "</table>\n",
       "<p>5 rows × 68 columns</p>\n",
       "</div>"
      ],
      "text/plain": [
       "   Id  MSSubClass  MSZoning  LotFrontage  LotArea  Street  LotShape  \\\n",
       "0   1          60         4         65.0     8450       2         4   \n",
       "1   2          20         4         80.0     9600       2         4   \n",
       "2   3          60         4         68.0    11250       2         3   \n",
       "3   4          70         4         60.0     9550       2         3   \n",
       "4   5          60         4         84.0    14260       2         3   \n",
       "\n",
       "   LandContour  Utilities  LotConfig    ...      MiscVal  MoSold  SaleType  \\\n",
       "0            4          4          5    ...            0       2        10   \n",
       "1            4          4          2    ...            0       5        10   \n",
       "2            4          4          5    ...            0       9        10   \n",
       "3            4          4          4    ...            0       2        10   \n",
       "4            4          4          2    ...            0      12        10   \n",
       "\n",
       "   SaleCondition  YearOld  ExterQualCond  BsmtQualCond  GarageQualCond  \\\n",
       "0              6        5            2.5           4.0             3.0   \n",
       "1              6       31            2.0           4.0             3.0   \n",
       "2              6        6            2.5           4.0             3.0   \n",
       "3              5       36            2.0           4.0             3.0   \n",
       "4              6        8            2.5           4.0             3.0   \n",
       "\n",
       "   TotPorch  SalePrice  \n",
       "0        61     208500  \n",
       "1         0     181500  \n",
       "2        42     223500  \n",
       "3       307     140000  \n",
       "4        84     250000  \n",
       "\n",
       "[5 rows x 68 columns]"
      ]
     },
     "execution_count": 20,
     "metadata": {},
     "output_type": "execute_result"
    }
   ],
   "source": [
    "train.head()"
   ]
  },
  {
   "cell_type": "markdown",
   "metadata": {},
   "source": [
    "Also, we don't need indexing feature 'ID' so we get rid of it."
   ]
  },
  {
   "cell_type": "code",
   "execution_count": 21,
   "metadata": {
    "collapsed": true
   },
   "outputs": [],
   "source": [
    "train = train.drop(['Id'],axis=1)\n",
    "test = test.drop(['Id'],axis=1)"
   ]
  },
  {
   "cell_type": "markdown",
   "metadata": {},
   "source": [
    "Since there are many features, let us check how much each feature are correlated to our target variable:"
   ]
  },
  {
   "cell_type": "code",
   "execution_count": 22,
   "metadata": {},
   "outputs": [
    {
     "data": {
      "text/plain": [
       "<matplotlib.axes._subplots.AxesSubplot at 0x4dea898>"
      ]
     },
     "execution_count": 22,
     "metadata": {},
     "output_type": "execute_result"
    },
    {
     "data": {
      "image/png": "[encoded data removed]",
      "text/plain": [
       "<Figure size 1080x1080 with 2 Axes>"
      ]
     },
     "metadata": {},
     "output_type": "display_data"
    }
   ],
   "source": [
    "correlation_matrix = train.corr()\n",
    "plt.figure(figsize=(15,15))\n",
    "sns.heatmap(correlation_matrix, vmin=-0.75, vmax=0.75, square=True)\n"
   ]
  },
  {
   "cell_type": "markdown",
   "metadata": {},
   "source": [
    "As one can notice in the heatmap above, the strongest positive correlation with the target variable is shown by the feature <b>OverallQual, followed by GrLivArea, GarageCars and GarageArea, TotBsmtSF, KitchenQual</b> and so on...\n",
    "Hence, the features which show strongest correlations with the target variables, are of utmost importance. \n",
    "\n",
    "Also talking about correlation, it doesn't matter if the correlation coefficient is positive or negative. The sign just indicates the incremental or decremental proportionality with the target variable <b>SalePrice</b>. What matters more, is that the absolute correlation coefficient is as close as possible to 1, indicating the importance of that feature, in order to predict the target variable. "
   ]
  },
  {
   "cell_type": "markdown",
   "metadata": {},
   "source": [
    "Now that we have the correlation values ready, let us perform some visualizations and see how can we process the dataset further:"
   ]
  },
  {
   "cell_type": "code",
   "execution_count": 23,
   "metadata": {},
   "outputs": [
    {
     "data": {
      "text/plain": [
       "<matplotlib.collections.PathCollection at 0xbf88358>"
      ]
     },
     "execution_count": 23,
     "metadata": {},
     "output_type": "execute_result"
    },
    {
     "data": {
      "image/png": "[encoded data removed]",
      "text/plain": [
       "<Figure size 432x288 with 1 Axes>"
      ]
     },
     "metadata": {},
     "output_type": "display_data"
    }
   ],
   "source": [
    "plt.scatter(train['LotArea'],train['SalePrice'])"
   ]
  },
  {
   "cell_type": "markdown",
   "metadata": {},
   "source": [
    "The above scatter chart indicates the relationship between the LotArea and SalePrice. As one can notice, there are a few outliers in the chart which show lower amount of their SalePrice for higher amount of LotArea. This type of outlier can possibly hinder our way towards creating a better Machine Learning model, and hence we choose to ignore them. \n",
    "\n",
    "Below code states that we only take into our consideration, the tuples with LotArea values under 55000, and ignore the tuples with LotArea greater than those values:"
   ]
  },
  {
   "cell_type": "code",
   "execution_count": 24,
   "metadata": {
    "collapsed": true
   },
   "outputs": [],
   "source": [
    "train = train[train['LotArea']<55000]"
   ]
  },
  {
   "cell_type": "code",
   "execution_count": 25,
   "metadata": {},
   "outputs": [
    {
     "data": {
      "text/plain": [
       "<matplotlib.collections.PathCollection at 0xbebbd68>"
      ]
     },
     "execution_count": 25,
     "metadata": {},
     "output_type": "execute_result"
    },
    {
     "data": {
      "image/png": "[encoded data removed]",
      "text/plain": [
       "<Figure size 432x288 with 1 Axes>"
      ]
     },
     "metadata": {},
     "output_type": "display_data"
    }
   ],
   "source": [
    "plt.scatter(train['GrLivArea'],train['SalePrice'])"
   ]
  },
  {
   "cell_type": "markdown",
   "metadata": {},
   "source": [
    "In the above scatter chart too, we can notice there is an outlier with highest value of the feature GrLivArea but with very low SalePrice value. Hence we chose to eliminate it from our data set."
   ]
  },
  {
   "cell_type": "code",
   "execution_count": 26,
   "metadata": {
    "collapsed": true
   },
   "outputs": [],
   "source": [
    "train = train[train['GrLivArea']<4500]"
   ]
  },
  {
   "cell_type": "code",
   "execution_count": 27,
   "metadata": {},
   "outputs": [
    {
     "data": {
      "text/plain": [
       "<matplotlib.collections.PathCollection at 0xc2a9358>"
      ]
     },
     "execution_count": 27,
     "metadata": {},
     "output_type": "execute_result"
    },
    {
     "data": {
      "image/png": "[encoded data removed]",
      "text/plain": [
       "<Figure size 432x288 with 1 Axes>"
      ]
     },
     "metadata": {},
     "output_type": "display_data"
    }
   ],
   "source": [
    "plt.scatter(train['TotalBsmtSF'],train['SalePrice'])"
   ]
  },
  {
   "cell_type": "markdown",
   "metadata": {},
   "source": [
    "Here too, there are certain outliers on the right hand sides of the X axis, that we can notice. Also, we can see that there are certain points with TotalBsmtSF values equal to zero, but showing different values for SalePrice. We eliminate them too:"
   ]
  },
  {
   "cell_type": "code",
   "execution_count": 28,
   "metadata": {},
   "outputs": [],
   "source": [
    "train = train[train['TotalBsmtSF']<2500]\n",
    "train = train[train['TotalBsmtSF']>0]"
   ]
  },
  {
   "cell_type": "markdown",
   "metadata": {},
   "source": [
    "Similarly, we carry on further to eliminate outliers from the rest of the features:"
   ]
  },
  {
   "cell_type": "code",
   "execution_count": 29,
   "metadata": {},
   "outputs": [
    {
     "data": {
      "text/plain": [
       "<matplotlib.collections.PathCollection at 0xc5152b0>"
      ]
     },
     "execution_count": 29,
     "metadata": {},
     "output_type": "execute_result"
    },
    {
     "data": {
      "image/png": "[encoded data removed]",
      "text/plain": [
       "<Figure size 432x288 with 1 Axes>"
      ]
     },
     "metadata": {},
     "output_type": "display_data"
    }
   ],
   "source": [
    "plt.scatter(train['GarageCars'],train['SalePrice'])"
   ]
  },
  {
   "cell_type": "code",
   "execution_count": 30,
   "metadata": {
    "collapsed": true
   },
   "outputs": [],
   "source": [
    "train = train[train['GarageCars']<3.75]"
   ]
  },
  {
   "cell_type": "code",
   "execution_count": 31,
   "metadata": {},
   "outputs": [
    {
     "data": {
      "text/plain": [
       "<matplotlib.collections.PathCollection at 0xc573c50>"
      ]
     },
     "execution_count": 31,
     "metadata": {},
     "output_type": "execute_result"
    },
    {
     "data": {
      "image/png": "[encoded data removed]",
      "text/plain": [
       "<Figure size 432x288 with 1 Axes>"
      ]
     },
     "metadata": {},
     "output_type": "display_data"
    }
   ],
   "source": [
    "plt.scatter(train['GarageArea'],train['SalePrice'])"
   ]
  },
  {
   "cell_type": "code",
   "execution_count": 32,
   "metadata": {
    "collapsed": true
   },
   "outputs": [],
   "source": [
    "train = train[train['GarageArea']<1200]\n",
    "train = train[train['GarageArea']>0]"
   ]
  },
  {
   "cell_type": "code",
   "execution_count": 33,
   "metadata": {},
   "outputs": [
    {
     "data": {
      "text/plain": [
       "<matplotlib.axes._subplots.AxesSubplot at 0xc5a85c0>"
      ]
     },
     "execution_count": 33,
     "metadata": {},
     "output_type": "execute_result"
    },
    {
     "data": {
      "image/png": "[encoded data removed]",
      "text/plain": [
       "<Figure size 432x288 with 1 Axes>"
      ]
     },
     "metadata": {},
     "output_type": "display_data"
    }
   ],
   "source": [
    "sns.distplot(train['SalePrice'])"
   ]
  },
  {
   "cell_type": "markdown",
   "metadata": {},
   "source": [
    "As we can see, the data is somewhat skewed away from the normal distribution. Let us apply Log transformations to make it normally distributed."
   ]
  },
  {
   "cell_type": "code",
   "execution_count": 34,
   "metadata": {
    "collapsed": true
   },
   "outputs": [],
   "source": [
    "train['SalePrice'] = np.log1p(train['SalePrice'])"
   ]
  },
  {
   "cell_type": "code",
   "execution_count": 35,
   "metadata": {
    "scrolled": true
   },
   "outputs": [
    {
     "data": {
      "text/plain": [
       "<matplotlib.axes._subplots.AxesSubplot at 0xc67d908>"
      ]
     },
     "execution_count": 35,
     "metadata": {},
     "output_type": "execute_result"
    },
    {
     "data": {
      "image/png": "[encoded data removed]",
      "text/plain": [
       "<Figure size 432x288 with 1 Axes>"
      ]
     },
     "metadata": {},
     "output_type": "display_data"
    }
   ],
   "source": [
    "sns.distplot(train['SalePrice'])"
   ]
  },
  {
   "cell_type": "markdown",
   "metadata": {},
   "source": [
    "Hence, now we have normal distribution of the target variable SalePrice."
   ]
  },
  {
   "cell_type": "markdown",
   "metadata": {},
   "source": [
    "Let us start with some visualization:"
   ]
  },
  {
   "cell_type": "code",
   "execution_count": 36,
   "metadata": {},
   "outputs": [
    {
     "data": {
      "text/plain": [
       "<seaborn.axisgrid.JointGrid at 0xc7f1da0>"
      ]
     },
     "execution_count": 36,
     "metadata": {},
     "output_type": "execute_result"
    },
    {
     "data": {
      "text/plain": [
       "<Figure size 1440x1440 with 0 Axes>"
      ]
     },
     "metadata": {},
     "output_type": "display_data"
    },
    {
     "data": {
      "image/png": "[encoded data removed]",
      "text/plain": [
       "<Figure size 432x432 with 3 Axes>"
      ]
     },
     "metadata": {},
     "output_type": "display_data"
    },
    {
     "data": {
      "image/png": "[encoded data removed]",
      "text/plain": [
       "<Figure size 432x432 with 3 Axes>"
      ]
     },
     "metadata": {},
     "output_type": "display_data"
    }
   ],
   "source": [
    "plt.figure(figsize=(20,20))\n",
    "sns.jointplot(train['LotFrontage'],train['SalePrice'],kind=\"hex\")\n",
    "sns.jointplot(train['LotArea'],train['SalePrice'],kind=\"hex\",color=\"indianred\")"
   ]
  },
  {
   "cell_type": "code",
   "execution_count": 37,
   "metadata": {},
   "outputs": [
    {
     "data": {
      "text/plain": [
       "<seaborn.axisgrid.JointGrid at 0xc6d3da0>"
      ]
     },
     "execution_count": 37,
     "metadata": {},
     "output_type": "execute_result"
    },
    {
     "data": {
      "image/png": "[encoded data removed]",
      "text/plain": [
       "<Figure size 432x432 with 3 Axes>"
      ]
     },
     "metadata": {},
     "output_type": "display_data"
    }
   ],
   "source": [
    "sns.jointplot(train['OverallQual'],train['SalePrice'],kind='kde')"
   ]
  },
  {
   "cell_type": "markdown",
   "metadata": {},
   "source": [
    "Let us build our model and predict the result:"
   ]
  },
  {
   "cell_type": "code",
   "execution_count": 38,
   "metadata": {
    "collapsed": true
   },
   "outputs": [],
   "source": [
    "x = train.iloc[:,:-1].values\n",
    "y = train.iloc[:,-1].values\n",
    "\n",
    "x_eval = test.iloc[:,:].values"
   ]
  },
  {
   "cell_type": "markdown",
   "metadata": {
    "collapsed": true
   },
   "source": [
    "In the data information above, we see that majority of the features have little to no missing values, hence we prefer imputing the missing values with the values occuring most frequent."
   ]
  },
  {
   "cell_type": "markdown",
   "metadata": {},
   "source": [
    "Handling the missing values:"
   ]
  },
  {
   "cell_type": "code",
   "execution_count": 39,
   "metadata": {
    "collapsed": true
   },
   "outputs": [],
   "source": [
    "from sklearn.preprocessing import Imputer\n",
    "imputer = Imputer(missing_values = 'NaN', strategy = 'most_frequent', axis = 0)\n",
    "imputer = imputer.fit(x[:, :])\n",
    "x[:,:] = imputer.transform(x[:,:])"
   ]
  },
  {
   "cell_type": "code",
   "execution_count": 40,
   "metadata": {
    "collapsed": true
   },
   "outputs": [],
   "source": [
    "from sklearn.preprocessing import Imputer\n",
    "imputer1 = Imputer(missing_values = 'NaN', strategy = 'most_frequent', axis = 0)\n",
    "imputer1 = imputer1.fit(x_eval[:, :])\n",
    "x_eval[:,:] = imputer1.transform(x_eval[:,:])"
   ]
  },
  {
   "cell_type": "markdown",
   "metadata": {},
   "source": [
    "We can see that the above plot reveals positive proportionality between the features LotFrontage, LotArea and the target variable SalePrice. Therefore, they can be considered essential for predicting the sale price of the house."
   ]
  },
  {
   "cell_type": "code",
   "execution_count": 41,
   "metadata": {
    "collapsed": true
   },
   "outputs": [],
   "source": [
    "from sklearn.model_selection import train_test_split\n",
    "x_train,x_test,y_train,y_test = train_test_split(x,y,test_size=1/3,random_state=0)"
   ]
  },
  {
   "cell_type": "code",
   "execution_count": 42,
   "metadata": {
    "scrolled": true
   },
   "outputs": [],
   "source": [
    "from sklearn.ensemble import GradientBoostingRegressor, RandomForestRegressor\n",
    "from sklearn.svm import SVR\n",
    "from sklearn.tree import DecisionTreeRegressor\n",
    "from sklearn.metrics import mean_squared_error\n",
    "\n",
    "rmse_dict = {}\n",
    "\n",
    "regressors = [\n",
    "    GradientBoostingRegressor(n_estimators = 5000, random_state = 0),\n",
    "    RandomForestRegressor(n_estimators = 5000, random_state = 0),\n",
    "    DecisionTreeRegressor(random_state=0),\n",
    "    SVR(kernel='rbf')\n",
    "]\n",
    "\n",
    "for reg in regressors:\n",
    "    name = reg.__class__.__name__\n",
    "    reg.fit(x_train, y_train)\n",
    "    y_pred = reg.predict(x_test)\n",
    "    error = mean_squared_error(y_test,y_pred) \n",
    "    rmse_dict[name] = error"
   ]
  },
  {
   "cell_type": "code",
   "execution_count": 43,
   "metadata": {
    "scrolled": false
   },
   "outputs": [],
   "source": [
    "names=[]\n",
    "rmse=[]\n",
    "for key,value in rmse_dict.items():\n",
    "    names.append(key)\n",
    "    rmse.append(value)"
   ]
  },
  {
   "cell_type": "code",
   "execution_count": 44,
   "metadata": {},
   "outputs": [],
   "source": [
    "df_vals = DataFrame(list(zip(names,rmse)),columns=['RMSE','Regressors'])"
   ]
  },
  {
   "cell_type": "code",
   "execution_count": 45,
   "metadata": {},
   "outputs": [
    {
     "data": {
      "text/plain": [
       "<matplotlib.axes._subplots.AxesSubplot at 0xe2b96a0>"
      ]
     },
     "execution_count": 45,
     "metadata": {},
     "output_type": "execute_result"
    },
    {
     "data": {
      "image/png": "[encoded data removed]",
      "text/plain": [
       "<Figure size 1080x360 with 1 Axes>"
      ]
     },
     "metadata": {},
     "output_type": "display_data"
    }
   ],
   "source": [
    "plt.figure(figsize=(15,5))\n",
    "plt.title('RMSE values of different Regressors on our data')\n",
    "sns.set_color_codes(\"muted\")\n",
    "sns.barplot(x='Regressors', y='RMSE', data=df_vals, palette=\"Blues\")"
   ]
  },
  {
   "cell_type": "markdown",
   "metadata": {},
   "source": [
    "As we can see, the RandomForestRegressor shows the minimum RMSE value, hence we chose that algorithm as our final model to predict values."
   ]
  },
  {
   "cell_type": "code",
   "execution_count": 46,
   "metadata": {
    "scrolled": false
   },
   "outputs": [
    {
     "data": {
      "text/html": [
       "<div>\n",
       "<style scoped>\n",
       "    .dataframe tbody tr th:only-of-type {\n",
       "        vertical-align: middle;\n",
       "    }\n",
       "\n",
       "    .dataframe tbody tr th {\n",
       "        vertical-align: top;\n",
       "    }\n",
       "\n",
       "    .dataframe thead th {\n",
       "        text-align: right;\n",
       "    }\n",
       "</style>\n",
       "<table border=\"1\" class=\"dataframe\">\n",
       "  <thead>\n",
       "    <tr style=\"text-align: right;\">\n",
       "      <th></th>\n",
       "      <th>0</th>\n",
       "      <th>1</th>\n",
       "      <th>2</th>\n",
       "      <th>3</th>\n",
       "      <th>4</th>\n",
       "      <th>5</th>\n",
       "      <th>6</th>\n",
       "      <th>7</th>\n",
       "      <th>8</th>\n",
       "      <th>9</th>\n",
       "      <th>...</th>\n",
       "      <th>433</th>\n",
       "      <th>434</th>\n",
       "      <th>435</th>\n",
       "      <th>436</th>\n",
       "      <th>437</th>\n",
       "      <th>438</th>\n",
       "      <th>439</th>\n",
       "      <th>440</th>\n",
       "      <th>441</th>\n",
       "      <th>442</th>\n",
       "    </tr>\n",
       "  </thead>\n",
       "  <tbody>\n",
       "    <tr>\n",
       "      <th>0</th>\n",
       "      <td>175900.00000</td>\n",
       "      <td>115000.000000</td>\n",
       "      <td>124500.000000</td>\n",
       "      <td>201000.000000</td>\n",
       "      <td>91000.000000</td>\n",
       "      <td>128500.000000</td>\n",
       "      <td>369900.000000</td>\n",
       "      <td>139500.000000</td>\n",
       "      <td>185000.000000</td>\n",
       "      <td>142000.00000</td>\n",
       "      <td>...</td>\n",
       "      <td>128500.000000</td>\n",
       "      <td>226000.000000</td>\n",
       "      <td>223500.000000</td>\n",
       "      <td>119500.000000</td>\n",
       "      <td>211000.000000</td>\n",
       "      <td>125000.000000</td>\n",
       "      <td>109000.000000</td>\n",
       "      <td>239799.000000</td>\n",
       "      <td>112000.000000</td>\n",
       "      <td>119500.000000</td>\n",
       "    </tr>\n",
       "    <tr>\n",
       "      <th>1</th>\n",
       "      <td>212586.00223</td>\n",
       "      <td>120217.575348</td>\n",
       "      <td>120604.738112</td>\n",
       "      <td>216292.415036</td>\n",
       "      <td>102550.260258</td>\n",
       "      <td>137213.681502</td>\n",
       "      <td>354418.431984</td>\n",
       "      <td>130576.848256</td>\n",
       "      <td>180850.117038</td>\n",
       "      <td>136557.01141</td>\n",
       "      <td>...</td>\n",
       "      <td>120200.106191</td>\n",
       "      <td>231875.868761</td>\n",
       "      <td>213527.993536</td>\n",
       "      <td>124420.061684</td>\n",
       "      <td>200543.976486</td>\n",
       "      <td>108370.273175</td>\n",
       "      <td>107254.247376</td>\n",
       "      <td>243089.207721</td>\n",
       "      <td>121789.235312</td>\n",
       "      <td>123468.147899</td>\n",
       "    </tr>\n",
       "  </tbody>\n",
       "</table>\n",
       "<p>2 rows × 443 columns</p>\n",
       "</div>"
      ],
      "text/plain": [
       "            0              1              2              3              4    \\\n",
       "0  175900.00000  115000.000000  124500.000000  201000.000000   91000.000000   \n",
       "1  212586.00223  120217.575348  120604.738112  216292.415036  102550.260258   \n",
       "\n",
       "             5              6              7              8             9    \\\n",
       "0  128500.000000  369900.000000  139500.000000  185000.000000  142000.00000   \n",
       "1  137213.681502  354418.431984  130576.848256  180850.117038  136557.01141   \n",
       "\n",
       "       ...                  433            434            435            436  \\\n",
       "0      ...        128500.000000  226000.000000  223500.000000  119500.000000   \n",
       "1      ...        120200.106191  231875.868761  213527.993536  124420.061684   \n",
       "\n",
       "             437            438            439            440            441  \\\n",
       "0  211000.000000  125000.000000  109000.000000  239799.000000  112000.000000   \n",
       "1  200543.976486  108370.273175  107254.247376  243089.207721  121789.235312   \n",
       "\n",
       "             442  \n",
       "0  119500.000000  \n",
       "1  123468.147899  \n",
       "\n",
       "[2 rows x 443 columns]"
      ]
     },
     "execution_count": 46,
     "metadata": {},
     "output_type": "execute_result"
    }
   ],
   "source": [
    "regressor1 = RandomForestRegressor(n_estimators = 5000, random_state = 0)\n",
    "regressor1.fit(x_train,y_train)\n",
    "y_pred = regressor1.predict(x_test)\n",
    "\n",
    "\n",
    "y_test = np.expm1(y_test)\n",
    "y_pred = np.expm1(y_pred)\n",
    "DataFrame([y_test,y_pred])"
   ]
  },
  {
   "cell_type": "code",
   "execution_count": 47,
   "metadata": {
    "collapsed": true
   },
   "outputs": [],
   "source": [
    "predictions = regressor1.predict(x_eval)\n",
    "predictions = np.expm1(predictions)"
   ]
  },
  {
   "cell_type": "code",
   "execution_count": 48,
   "metadata": {
    "collapsed": true
   },
   "outputs": [],
   "source": [
    "predictions = DataFrame(predictions)\n",
    "predictions.to_csv(\"pred_new.csv\")"
   ]
  },
  {
   "cell_type": "code",
   "execution_count": 49,
   "metadata": {},
   "outputs": [
    {
     "data": {
      "text/html": [
       "<div>\n",
       "<style scoped>\n",
       "    .dataframe tbody tr th:only-of-type {\n",
       "        vertical-align: middle;\n",
       "    }\n",
       "\n",
       "    .dataframe tbody tr th {\n",
       "        vertical-align: top;\n",
       "    }\n",
       "\n",
       "    .dataframe thead th {\n",
       "        text-align: right;\n",
       "    }\n",
       "</style>\n",
       "<table border=\"1\" class=\"dataframe\">\n",
       "  <thead>\n",
       "    <tr style=\"text-align: right;\">\n",
       "      <th></th>\n",
       "      <th>0</th>\n",
       "    </tr>\n",
       "  </thead>\n",
       "  <tbody>\n",
       "    <tr>\n",
       "      <th>0</th>\n",
       "      <td>123825.698772</td>\n",
       "    </tr>\n",
       "    <tr>\n",
       "      <th>1</th>\n",
       "      <td>153890.143649</td>\n",
       "    </tr>\n",
       "    <tr>\n",
       "      <th>2</th>\n",
       "      <td>184011.632227</td>\n",
       "    </tr>\n",
       "    <tr>\n",
       "      <th>3</th>\n",
       "      <td>181449.388355</td>\n",
       "    </tr>\n",
       "    <tr>\n",
       "      <th>4</th>\n",
       "      <td>201666.853954</td>\n",
       "    </tr>\n",
       "    <tr>\n",
       "      <th>5</th>\n",
       "      <td>180381.260415</td>\n",
       "    </tr>\n",
       "    <tr>\n",
       "      <th>6</th>\n",
       "      <td>164475.939315</td>\n",
       "    </tr>\n",
       "    <tr>\n",
       "      <th>7</th>\n",
       "      <td>170054.984102</td>\n",
       "    </tr>\n",
       "    <tr>\n",
       "      <th>8</th>\n",
       "      <td>182850.067245</td>\n",
       "    </tr>\n",
       "    <tr>\n",
       "      <th>9</th>\n",
       "      <td>124608.316648</td>\n",
       "    </tr>\n",
       "    <tr>\n",
       "      <th>10</th>\n",
       "      <td>205498.740955</td>\n",
       "    </tr>\n",
       "    <tr>\n",
       "      <th>11</th>\n",
       "      <td>90637.882557</td>\n",
       "    </tr>\n",
       "    <tr>\n",
       "      <th>12</th>\n",
       "      <td>100865.871285</td>\n",
       "    </tr>\n",
       "    <tr>\n",
       "      <th>13</th>\n",
       "      <td>156665.344887</td>\n",
       "    </tr>\n",
       "    <tr>\n",
       "      <th>14</th>\n",
       "      <td>146181.439273</td>\n",
       "    </tr>\n",
       "    <tr>\n",
       "      <th>15</th>\n",
       "      <td>369059.115439</td>\n",
       "    </tr>\n",
       "    <tr>\n",
       "      <th>16</th>\n",
       "      <td>250589.824104</td>\n",
       "    </tr>\n",
       "    <tr>\n",
       "      <th>17</th>\n",
       "      <td>300106.745810</td>\n",
       "    </tr>\n",
       "    <tr>\n",
       "      <th>18</th>\n",
       "      <td>234927.768160</td>\n",
       "    </tr>\n",
       "    <tr>\n",
       "      <th>19</th>\n",
       "      <td>461956.566225</td>\n",
       "    </tr>\n",
       "    <tr>\n",
       "      <th>20</th>\n",
       "      <td>301231.255719</td>\n",
       "    </tr>\n",
       "    <tr>\n",
       "      <th>21</th>\n",
       "      <td>208795.290887</td>\n",
       "    </tr>\n",
       "    <tr>\n",
       "      <th>22</th>\n",
       "      <td>180666.380040</td>\n",
       "    </tr>\n",
       "    <tr>\n",
       "      <th>23</th>\n",
       "      <td>177189.278079</td>\n",
       "    </tr>\n",
       "    <tr>\n",
       "      <th>24</th>\n",
       "      <td>173524.685632</td>\n",
       "    </tr>\n",
       "    <tr>\n",
       "      <th>25</th>\n",
       "      <td>191419.528404</td>\n",
       "    </tr>\n",
       "    <tr>\n",
       "      <th>26</th>\n",
       "      <td>313423.945004</td>\n",
       "    </tr>\n",
       "    <tr>\n",
       "      <th>27</th>\n",
       "      <td>241097.644255</td>\n",
       "    </tr>\n",
       "    <tr>\n",
       "      <th>28</th>\n",
       "      <td>202713.268566</td>\n",
       "    </tr>\n",
       "    <tr>\n",
       "      <th>29</th>\n",
       "      <td>196769.111847</td>\n",
       "    </tr>\n",
       "    <tr>\n",
       "      <th>...</th>\n",
       "      <td>...</td>\n",
       "    </tr>\n",
       "    <tr>\n",
       "      <th>1429</th>\n",
       "      <td>86634.758988</td>\n",
       "    </tr>\n",
       "    <tr>\n",
       "      <th>1430</th>\n",
       "      <td>133054.290465</td>\n",
       "    </tr>\n",
       "    <tr>\n",
       "      <th>1431</th>\n",
       "      <td>74467.088948</td>\n",
       "    </tr>\n",
       "    <tr>\n",
       "      <th>1432</th>\n",
       "      <td>104240.143932</td>\n",
       "    </tr>\n",
       "    <tr>\n",
       "      <th>1433</th>\n",
       "      <td>77289.061246</td>\n",
       "    </tr>\n",
       "    <tr>\n",
       "      <th>1434</th>\n",
       "      <td>332269.749625</td>\n",
       "    </tr>\n",
       "    <tr>\n",
       "      <th>1435</th>\n",
       "      <td>319015.332370</td>\n",
       "    </tr>\n",
       "    <tr>\n",
       "      <th>1436</th>\n",
       "      <td>189580.712294</td>\n",
       "    </tr>\n",
       "    <tr>\n",
       "      <th>1437</th>\n",
       "      <td>148337.154556</td>\n",
       "    </tr>\n",
       "    <tr>\n",
       "      <th>1438</th>\n",
       "      <td>225235.675375</td>\n",
       "    </tr>\n",
       "    <tr>\n",
       "      <th>1439</th>\n",
       "      <td>158613.325032</td>\n",
       "    </tr>\n",
       "    <tr>\n",
       "      <th>1440</th>\n",
       "      <td>184284.290106</td>\n",
       "    </tr>\n",
       "    <tr>\n",
       "      <th>1441</th>\n",
       "      <td>187204.855605</td>\n",
       "    </tr>\n",
       "    <tr>\n",
       "      <th>1442</th>\n",
       "      <td>348437.403084</td>\n",
       "    </tr>\n",
       "    <tr>\n",
       "      <th>1443</th>\n",
       "      <td>347737.308298</td>\n",
       "    </tr>\n",
       "    <tr>\n",
       "      <th>1444</th>\n",
       "      <td>109893.723767</td>\n",
       "    </tr>\n",
       "    <tr>\n",
       "      <th>1445</th>\n",
       "      <td>209177.136799</td>\n",
       "    </tr>\n",
       "    <tr>\n",
       "      <th>1446</th>\n",
       "      <td>120956.827427</td>\n",
       "    </tr>\n",
       "    <tr>\n",
       "      <th>1447</th>\n",
       "      <td>130996.591087</td>\n",
       "    </tr>\n",
       "    <tr>\n",
       "      <th>1448</th>\n",
       "      <td>142964.751593</td>\n",
       "    </tr>\n",
       "    <tr>\n",
       "      <th>1449</th>\n",
       "      <td>91929.777063</td>\n",
       "    </tr>\n",
       "    <tr>\n",
       "      <th>1450</th>\n",
       "      <td>92120.391172</td>\n",
       "    </tr>\n",
       "    <tr>\n",
       "      <th>1451</th>\n",
       "      <td>153592.624361</td>\n",
       "    </tr>\n",
       "    <tr>\n",
       "      <th>1452</th>\n",
       "      <td>97044.860008</td>\n",
       "    </tr>\n",
       "    <tr>\n",
       "      <th>1453</th>\n",
       "      <td>98114.699356</td>\n",
       "    </tr>\n",
       "    <tr>\n",
       "      <th>1454</th>\n",
       "      <td>101231.422034</td>\n",
       "    </tr>\n",
       "    <tr>\n",
       "      <th>1455</th>\n",
       "      <td>95655.079629</td>\n",
       "    </tr>\n",
       "    <tr>\n",
       "      <th>1456</th>\n",
       "      <td>153150.047281</td>\n",
       "    </tr>\n",
       "    <tr>\n",
       "      <th>1457</th>\n",
       "      <td>127032.439499</td>\n",
       "    </tr>\n",
       "    <tr>\n",
       "      <th>1458</th>\n",
       "      <td>228517.797356</td>\n",
       "    </tr>\n",
       "  </tbody>\n",
       "</table>\n",
       "<p>1459 rows × 1 columns</p>\n",
       "</div>"
      ],
      "text/plain": [
       "                  0\n",
       "0     123825.698772\n",
       "1     153890.143649\n",
       "2     184011.632227\n",
       "3     181449.388355\n",
       "4     201666.853954\n",
       "5     180381.260415\n",
       "6     164475.939315\n",
       "7     170054.984102\n",
       "8     182850.067245\n",
       "9     124608.316648\n",
       "10    205498.740955\n",
       "11     90637.882557\n",
       "12    100865.871285\n",
       "13    156665.344887\n",
       "14    146181.439273\n",
       "15    369059.115439\n",
       "16    250589.824104\n",
       "17    300106.745810\n",
       "18    234927.768160\n",
       "19    461956.566225\n",
       "20    301231.255719\n",
       "21    208795.290887\n",
       "22    180666.380040\n",
       "23    177189.278079\n",
       "24    173524.685632\n",
       "25    191419.528404\n",
       "26    313423.945004\n",
       "27    241097.644255\n",
       "28    202713.268566\n",
       "29    196769.111847\n",
       "...             ...\n",
       "1429   86634.758988\n",
       "1430  133054.290465\n",
       "1431   74467.088948\n",
       "1432  104240.143932\n",
       "1433   77289.061246\n",
       "1434  332269.749625\n",
       "1435  319015.332370\n",
       "1436  189580.712294\n",
       "1437  148337.154556\n",
       "1438  225235.675375\n",
       "1439  158613.325032\n",
       "1440  184284.290106\n",
       "1441  187204.855605\n",
       "1442  348437.403084\n",
       "1443  347737.308298\n",
       "1444  109893.723767\n",
       "1445  209177.136799\n",
       "1446  120956.827427\n",
       "1447  130996.591087\n",
       "1448  142964.751593\n",
       "1449   91929.777063\n",
       "1450   92120.391172\n",
       "1451  153592.624361\n",
       "1452   97044.860008\n",
       "1453   98114.699356\n",
       "1454  101231.422034\n",
       "1455   95655.079629\n",
       "1456  153150.047281\n",
       "1457  127032.439499\n",
       "1458  228517.797356\n",
       "\n",
       "[1459 rows x 1 columns]"
      ]
     },
     "execution_count": 49,
     "metadata": {},
     "output_type": "execute_result"
    }
   ],
   "source": [
    "predictions"
   ]
  },
  {
   "cell_type": "markdown",
   "metadata": {},
   "source": [
    " "
   ]
  },
  {
   "cell_type": "markdown",
   "metadata": {},
   "source": [
    "Therefore, we have our final predictions of Sale Prices successfully computed using Machine Learning."
   ]
  },
  {
   "cell_type": "markdown",
   "metadata": {},
   "source": [
    " "
   ]
  },
  {
   "cell_type": "markdown",
   "metadata": {},
   "source": [
    "## Thanks for reading."
   ]
  }
 ],
 "metadata": {
  "kernelspec": {
   "display_name": "Python 3",
   "language": "python",
   "name": "python3"
  },
  "language_info": {
   "codemirror_mode": {
    "name": "ipython",
    "version": 3
   },
   "file_extension": ".py",
   "mimetype": "text/x-python",
   "name": "python",
   "nbconvert_exporter": "python",
   "pygments_lexer": "ipython3",
   "version": "3.6.6"
  }
 },
 "nbformat": 4,
 "nbformat_minor": 2
}
