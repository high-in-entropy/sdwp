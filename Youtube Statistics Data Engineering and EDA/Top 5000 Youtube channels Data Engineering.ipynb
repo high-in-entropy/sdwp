{
 "cells": [
  {
   "cell_type": "markdown",
   "metadata": {},
   "source": [
    "# Top 5000 Youtube channels Data Engineering"
   ]
  },
  {
   "cell_type": "markdown",
   "metadata": {},
   "source": [
    "### Youtube is an American video-sharing website where thousands of videos of different types are uploaded daily by people across the world. Some of the video uploaders are also making nice money out of it. Youtube is world's largest video sharing website and there are about 3.25 billion video views each month worldwide. Also, the average number of mobile YouTube video views per day is 1,000,000,000.\n",
    "\n",
    "### This notebook simply demonstrates engineering a dataset about the basic information of top 5000 Youtube channels ranked by Socialblade. Socialblade is a website where all the information about Youtube, Instagram and other social media accounts can be found. Thanks to socialblade.com for doing the hardwork of collecting the data. \n",
    "For more about Socialblade and its' product offerings, visit: <a href=\"https://socialblade.com/\">Socialblade</a>\n",
    "\n",
    "<b>Note:</b> This work is not sponsored by Socialblade and is just a fun project made using Data Science technologies. The project does not aim at violation of any policies or privacy since the data on the website is publicly available."
   ]
  },
  {
   "cell_type": "markdown",
   "metadata": {},
   "source": [
    "Importing the necessary libraries:"
   ]
  },
  {
   "cell_type": "code",
   "execution_count": 1,
   "metadata": {
    "collapsed": true
   },
   "outputs": [],
   "source": [
    "import requests\n",
    "from bs4 import BeautifulSoup\n",
    "import numpy as np\n",
    "import pandas as pd\n",
    "from pandas import Series,DataFrame\n",
    "import matplotlib.pyplot as plt\n",
    "import seaborn as sns\n",
    "%matplotlib inline"
   ]
  },
  {
   "cell_type": "markdown",
   "metadata": {},
   "source": [
    "We will use the state-of-the-art BeautifulSoup library of Python for scraping the data. Scrapy is another good library but since its' complexity according to me is higher as compared to BS4, we will simply use BS4 in this project. \n",
    "\n",
    "A basic tutorial on BeautifulSoup web scraping can be found here: <a href=\"https://www.pythonforbeginners.com/python-on-the-web/web-scraping-with-beautifulsoup\">Scraping with BeautifulSoup</a>"
   ]
  },
  {
   "cell_type": "markdown",
   "metadata": {},
   "source": [
    "The web scraping begins:"
   ]
  },
  {
   "cell_type": "code",
   "execution_count": 2,
   "metadata": {
    "collapsed": true
   },
   "outputs": [],
   "source": [
    "# Creating an object which holds the URL of the webpage, data of which we want to scrap.\n",
    "\n",
    "URL = \"https://socialblade.com/youtube/top/5000/\""
   ]
  },
  {
   "cell_type": "code",
   "execution_count": 3,
   "metadata": {
    "collapsed": true
   },
   "outputs": [],
   "source": [
    "#Creating a requests object which will request web data from the URL mentioned.\n",
    "req = requests.get(URL)\n",
    "\n",
    "#Passing the data to BS4 constructor and using html5lib parser to structure the data into raw HTML format.\n",
    "htmlData = BeautifulSoup(req.content, 'html5lib')"
   ]
  },
  {
   "cell_type": "markdown",
   "metadata": {},
   "source": [
    "Now we have a structured HTML data of the webpage where rankings are displayed. What we do ahead is traverse the HTML tree until we find the relevant HTML piece of code where the rankings data is mentioned.\n",
    "\n",
    "After a lot of experimentation and debugging, I was able to check where the relevant code was present. Ahead, we create an empty dataframe and populate it by the values for each channel. After manually reading the HTML data, I found that there were many <i>div</i> tags under the body section of webpage and the code we are interested in, was present in the 9th div tag. Also, inside the 9th tag, there were further two divisions: left and right and the rankings were present in the second div tag. \n",
    "\n",
    "To display each ranking, a separate div was created and the data for each ranking was mentioned inside that div. The div tags that showed the rankings and which we wanted to fetch, were the 5th div tag all upto 5004th div tag. So now to sum up, we are about to fetch 5000 div tags numbered 5th to 5004th, from the second child div tag of the nine parent div tags present in the body. \n",
    "\n",
    "\n",
    "Talking about the code ahead, we use two for loops. First for loops iterates over the 5000 div tags of rankings and the inner for loop iterates over each values (6 values for each Youtube channel) and add it to our dataframe."
   ]
  },
  {
   "cell_type": "code",
   "execution_count": 4,
   "metadata": {
    "collapsed": true
   },
   "outputs": [],
   "source": [
    "#Empty dataframe which will hold the data\n",
    "## dataframe = DataFrame()\n",
    "\n",
    "#Temporary list created to hold 6 values for each Youtube channel\n",
    "## temp_list = []\n",
    "\n",
    "#Looping begins\n",
    "## for i in range(5,5005):\n",
    "##    for j in range(1,7):\n",
    "# Traversing the hierarchy of div tags for fetching values using select method of BS4 library. The method returns \n",
    "# a list.\n",
    "##        html_text = htmlData.select(\"body > div:nth-of-type(9) > div:nth-of-type(2) \\\n",
    "##        > div:nth-of-type(\"+str(i)+\") > div:nth-of-type(\"+str(j)+\")\")\n",
    "    \n",
    "# Converting the list to string. Now we have the html code which displays each value.\n",
    "##        html_text1 = str(html_text[0])\n",
    "    \n",
    "# Converting to BS object.\n",
    "##        html_text1_soup = BeautifulSoup(html_text1, \"lxml\")\n",
    "    \n",
    "# Fetching the textual value.\n",
    "##        value = html_text1_soup.text\n",
    "    \n",
    "# Appending the value to the list\n",
    "##        temp_list.append(value)\n",
    "\n",
    "# The list of 6 values is now ready for a particular channel. Adding it to the dataframe.\n",
    "##    dataframe = dataframe.append(Series(temp_list),ignore_index=True)\n",
    "    \n",
    "# Reinitializing the list for next iteration.\n",
    "##    temp_list = []\n",
    "\n",
    "    \n",
    "# At the end of the execution of the above code, we get data into the dataframe."
   ]
  },
  {
   "cell_type": "markdown",
   "metadata": {},
   "source": [
    "It took about an hour for the loops to run and dump the data into a dataframe. Since I'll be running the notebook cells multiple times for final deployment purposes, I'll simply comment that code so that it doesn't run everytime and I'll use the exported CSV file for further purposes. If you want to play with the code and fork the notebook, kindle comment out the <b>two</b> hashtags which shows that the script ahead is the Python code and not the part of the comment. <b>One</b> hashtag actually denotes a comment.\n",
    "\n",
    "\n",
    "So now that we have the data ready, let us have a first look:"
   ]
  },
  {
   "cell_type": "code",
   "execution_count": 5,
   "metadata": {},
   "outputs": [
    {
     "data": {
      "text/html": [
       "<div>\n",
       "<style scoped>\n",
       "    .dataframe tbody tr th:only-of-type {\n",
       "        vertical-align: middle;\n",
       "    }\n",
       "\n",
       "    .dataframe tbody tr th {\n",
       "        vertical-align: top;\n",
       "    }\n",
       "\n",
       "    .dataframe thead th {\n",
       "        text-align: right;\n",
       "    }\n",
       "</style>\n",
       "<table border=\"1\" class=\"dataframe\">\n",
       "  <thead>\n",
       "    <tr style=\"text-align: right;\">\n",
       "      <th></th>\n",
       "      <th>0</th>\n",
       "      <th>1</th>\n",
       "      <th>2</th>\n",
       "      <th>3</th>\n",
       "      <th>4</th>\n",
       "      <th>5</th>\n",
       "    </tr>\n",
       "  </thead>\n",
       "  <tbody>\n",
       "    <tr>\n",
       "      <th>0</th>\n",
       "      <td>1st</td>\n",
       "      <td>\\nA++</td>\n",
       "      <td>\\n\\nZee TV\\n\\n</td>\n",
       "      <td>82757</td>\n",
       "      <td>\\n18,752,951</td>\n",
       "      <td>\\n20,869,786,591</td>\n",
       "    </tr>\n",
       "    <tr>\n",
       "      <th>1</th>\n",
       "      <td>2nd</td>\n",
       "      <td>\\nA++</td>\n",
       "      <td>\\n\\nT-Series\\n\\n</td>\n",
       "      <td>12661</td>\n",
       "      <td>\\n61,196,302</td>\n",
       "      <td>\\n47,548,839,843</td>\n",
       "    </tr>\n",
       "    <tr>\n",
       "      <th>2</th>\n",
       "      <td>3rd</td>\n",
       "      <td>\\nA++</td>\n",
       "      <td>\\n\\nCocomelon - Nursery Rhymes\\n\\n</td>\n",
       "      <td>373</td>\n",
       "      <td>\\n19,238,251</td>\n",
       "      <td>\\n9,793,305,082</td>\n",
       "    </tr>\n",
       "    <tr>\n",
       "      <th>3</th>\n",
       "      <td>4th</td>\n",
       "      <td>\\nA++</td>\n",
       "      <td>\\n\\nSET India\\n\\n</td>\n",
       "      <td>27323</td>\n",
       "      <td>\\n31,180,559</td>\n",
       "      <td>\\n22,675,948,293</td>\n",
       "    </tr>\n",
       "    <tr>\n",
       "      <th>4</th>\n",
       "      <td>5th</td>\n",
       "      <td>\\nA++</td>\n",
       "      <td>\\n\\nWWE\\n\\n</td>\n",
       "      <td>36756</td>\n",
       "      <td>\\n32,852,346</td>\n",
       "      <td>\\n26,273,668,433</td>\n",
       "    </tr>\n",
       "  </tbody>\n",
       "</table>\n",
       "</div>"
      ],
      "text/plain": [
       "     0       1                                   2      3              4  \\\n",
       "0  1st  \\nA++                       \\n\\nZee TV\\n\\n  82757  \\n18,752,951    \n",
       "1  2nd  \\nA++                     \\n\\nT-Series\\n\\n  12661  \\n61,196,302    \n",
       "2  3rd  \\nA++   \\n\\nCocomelon - Nursery Rhymes\\n\\n    373  \\n19,238,251    \n",
       "3  4th  \\nA++                    \\n\\nSET India\\n\\n  27323  \\n31,180,559    \n",
       "4  5th  \\nA++                          \\n\\nWWE\\n\\n  36756  \\n32,852,346    \n",
       "\n",
       "                   5  \n",
       "0  \\n20,869,786,591   \n",
       "1  \\n47,548,839,843   \n",
       "2   \\n9,793,305,082   \n",
       "3  \\n22,675,948,293   \n",
       "4  \\n26,273,668,433   "
      ]
     },
     "execution_count": 5,
     "metadata": {},
     "output_type": "execute_result"
    }
   ],
   "source": [
    "dataframe = pd.read_csv(\"scraped.csv\")\n",
    "dataframe.head()"
   ]
  },
  {
   "cell_type": "markdown",
   "metadata": {},
   "source": [
    "As we can notice, the values aren't properly formatted and the columns are yet to be named."
   ]
  },
  {
   "cell_type": "code",
   "execution_count": 6,
   "metadata": {
    "collapsed": true
   },
   "outputs": [],
   "source": [
    "dataframe.columns = [\"Rank\",\"Grade\",\"Channel name\",\"Video Uploads\",\"Subscribers\",\"Video views\"]"
   ]
  },
  {
   "cell_type": "code",
   "execution_count": 7,
   "metadata": {
    "collapsed": true
   },
   "outputs": [],
   "source": [
    "dataframe.replace(r'\\n',r'',regex=True,inplace=True)"
   ]
  },
  {
   "cell_type": "code",
   "execution_count": 8,
   "metadata": {},
   "outputs": [
    {
     "data": {
      "text/html": [
       "<div>\n",
       "<style scoped>\n",
       "    .dataframe tbody tr th:only-of-type {\n",
       "        vertical-align: middle;\n",
       "    }\n",
       "\n",
       "    .dataframe tbody tr th {\n",
       "        vertical-align: top;\n",
       "    }\n",
       "\n",
       "    .dataframe thead th {\n",
       "        text-align: right;\n",
       "    }\n",
       "</style>\n",
       "<table border=\"1\" class=\"dataframe\">\n",
       "  <thead>\n",
       "    <tr style=\"text-align: right;\">\n",
       "      <th></th>\n",
       "      <th>Rank</th>\n",
       "      <th>Grade</th>\n",
       "      <th>Channel name</th>\n",
       "      <th>Video Uploads</th>\n",
       "      <th>Subscribers</th>\n",
       "      <th>Video views</th>\n",
       "    </tr>\n",
       "  </thead>\n",
       "  <tbody>\n",
       "    <tr>\n",
       "      <th>0</th>\n",
       "      <td>1st</td>\n",
       "      <td>A++</td>\n",
       "      <td>Zee TV</td>\n",
       "      <td>82757</td>\n",
       "      <td>18,752,951</td>\n",
       "      <td>20,869,786,591</td>\n",
       "    </tr>\n",
       "    <tr>\n",
       "      <th>1</th>\n",
       "      <td>2nd</td>\n",
       "      <td>A++</td>\n",
       "      <td>T-Series</td>\n",
       "      <td>12661</td>\n",
       "      <td>61,196,302</td>\n",
       "      <td>47,548,839,843</td>\n",
       "    </tr>\n",
       "    <tr>\n",
       "      <th>2</th>\n",
       "      <td>3rd</td>\n",
       "      <td>A++</td>\n",
       "      <td>Cocomelon - Nursery Rhymes</td>\n",
       "      <td>373</td>\n",
       "      <td>19,238,251</td>\n",
       "      <td>9,793,305,082</td>\n",
       "    </tr>\n",
       "    <tr>\n",
       "      <th>3</th>\n",
       "      <td>4th</td>\n",
       "      <td>A++</td>\n",
       "      <td>SET India</td>\n",
       "      <td>27323</td>\n",
       "      <td>31,180,559</td>\n",
       "      <td>22,675,948,293</td>\n",
       "    </tr>\n",
       "    <tr>\n",
       "      <th>4</th>\n",
       "      <td>5th</td>\n",
       "      <td>A++</td>\n",
       "      <td>WWE</td>\n",
       "      <td>36756</td>\n",
       "      <td>32,852,346</td>\n",
       "      <td>26,273,668,433</td>\n",
       "    </tr>\n",
       "  </tbody>\n",
       "</table>\n",
       "</div>"
      ],
      "text/plain": [
       "  Rank Grade                Channel name Video Uploads  Subscribers  \\\n",
       "0  1st  A++                       Zee TV         82757  18,752,951    \n",
       "1  2nd  A++                     T-Series         12661  61,196,302    \n",
       "2  3rd  A++   Cocomelon - Nursery Rhymes           373  19,238,251    \n",
       "3  4th  A++                    SET India         27323  31,180,559    \n",
       "4  5th  A++                          WWE         36756  32,852,346    \n",
       "\n",
       "       Video views  \n",
       "0  20,869,786,591   \n",
       "1  47,548,839,843   \n",
       "2   9,793,305,082   \n",
       "3  22,675,948,293   \n",
       "4  26,273,668,433   "
      ]
     },
     "execution_count": 8,
     "metadata": {},
     "output_type": "execute_result"
    }
   ],
   "source": [
    "dataframe.head()"
   ]
  },
  {
   "cell_type": "markdown",
   "metadata": {},
   "source": [
    "Finally, the data is well formatted and ready. Phew! that was nice!\n",
    "\n",
    "The dataset can be used to perform exploratory data analysis and visualizations which can help reveal some possible correlations and insights about factors powering the YouTube channel rankings. Though the data delineates only some basic information about the YouTube channels, I'm pretty sure that this data can be very helpful to all the beginners and neophytes of data science."
   ]
  },
  {
   "cell_type": "markdown",
   "metadata": {
    "collapsed": true
   },
   "source": [
    "  "
   ]
  },
  {
   "cell_type": "markdown",
   "metadata": {},
   "source": [
    "  "
   ]
  },
  {
   "cell_type": "markdown",
   "metadata": {},
   "source": [
    " "
   ]
  },
  {
   "cell_type": "markdown",
   "metadata": {},
   "source": [
    "## Thanks for reading. "
   ]
  }
 ],
 "metadata": {
  "kernelspec": {
   "display_name": "Python 3",
   "language": "python",
   "name": "python3"
  },
  "language_info": {
   "codemirror_mode": {
    "name": "ipython",
    "version": 3
   },
   "file_extension": ".py",
   "mimetype": "text/x-python",
   "name": "python",
   "nbconvert_exporter": "python",
   "pygments_lexer": "ipython3",
   "version": "3.6.6"
  }
 },
 "nbformat": 4,
 "nbformat_minor": 2
}
